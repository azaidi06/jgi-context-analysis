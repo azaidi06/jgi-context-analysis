{
 "cells": [
  {
   "cell_type": "code",
   "execution_count": 1,
   "id": "a6840224-0454-43df-9022-54a4d486197b",
   "metadata": {
    "tags": []
   },
   "outputs": [],
   "source": [
    "#%env HF_DATASETS_CACHE=/pscratch/sd/a/azaidi/llm/cache\n",
    "#%env HF_HOME=/pscratch/sd/a/azaidi/llm/cache\n",
    "import os\n",
    "os.environ['HF_HOME'] = '/pscratch/sd/a/azaidi/llm/cache'\n",
    "from utils import *"
   ]
  },
  {
   "cell_type": "code",
   "execution_count": 2,
   "id": "f68e4bad-0a02-4d2d-9edb-e796a4937f97",
   "metadata": {
    "tags": []
   },
   "outputs": [
    {
     "data": {
      "text/plain": [
       "dict_keys(['df', 'target_keys', 'key_paper_dict', 'paper_dict'])"
      ]
     },
     "execution_count": 2,
     "metadata": {},
     "output_type": "execute_result"
    }
   ],
   "source": [
    "# setup our dataset class\n",
    "ds = jgi_dataset()\n",
    "vars(ds).keys()"
   ]
  },
  {
   "cell_type": "code",
   "execution_count": 69,
   "id": "98eec32f",
   "metadata": {},
   "outputs": [],
   "source": [
    "class PromptModule():\n",
    "    '''\n",
    "    Generic prompt component\n",
    "    [A] - [B] - [C] positons\n",
    "    User prompt, paper, model output, metadata\n",
    "        or anything else can be added\n",
    "    '''\n",
    "    def __init__(self,\n",
    "                 front_position=None,\n",
    "                 middle_position=None,\n",
    "                 end_position=None,\n",
    "                ):\n",
    "        self.front_position = front_position\n",
    "        self.middle_position = middle_position\n",
    "        self.end_position = end_position\n",
    "        self.full_prompt = construct_prompt(\n",
    "            self.front_position,\n",
    "            self.middle_position,\n",
    "            self.end_position,\n",
    "        )\n",
    "    def construct_prompt(self):\n",
    "        return self.front_position + self.middle_position + self.end_position"
   ]
  },
  {
   "cell_type": "code",
   "execution_count": 76,
   "id": "4d5e3ee8",
   "metadata": {},
   "outputs": [],
   "source": [
    "pp = GenericPrompt(ds, ds.target_keys[0],\n",
    "                   prompt_front=f'We are trying to determine the role of {ds.target_keys[0]} in a scientific paper',\n",
    "                    include_paper=False,\n",
    "                    include_example_output=False)\n",
    "pp2 = GenericPrompt(ds, ds.target_keys[1],\n",
    "                   prompt_front='Heres an example paper and its associated json output file:',\n",
    "                    include_paper=True,\n",
    "                    include_rag_example=True,\n",
    "                    paper_length=20,\n",
    "                    )\n",
    "pp3 = GenericPrompt(ds, ds.target_keys[0],\n",
    "                   prompt_front='Heres the paper in question, can you generate an appropriate json?:',\n",
    "                    include_paper=True,\n",
    "                    prompt_end='Please ensure that the output is in the format as you can see below\\n'\n",
    "                    #include_example_output=True #defaults to True -- will pull response template\n",
    "                    )\n"
   ]
  },
  {
   "cell_type": "code",
   "execution_count": 84,
   "id": "b7f91865",
   "metadata": {},
   "outputs": [
    {
     "name": "stdout",
     "output_type": "stream",
     "text": [
      "We are trying to determine the role of NC_003317 in a scientific paper\n",
      "\n",
      "Heres an example paper and its associated json output file:\n",
      "n\n",
      "{\"accession\": \"NC_003318\", \"data_accessed\": \"True\", \"pmcid\": \"PMC2677664\", \"summary\": \"In this article the authors use comparative genomics to investigate the genomic underpinnings of the differences in pathogenicity between the sheep pathogen Brucella ovis, which does not cause zoonotic disease, and other Brucella species that are zoonotic pathogens.\", \"tools_software\": [{\"tool\": \"MUMmer\"}, {\"tool\": \"COG\"}, {\"tool\": \"BLAST\"}, {\"tool\": \"HMM\"}], \"use_cases\": [{\"case\": \"The genomic sequence of Brucella melitensis 16M Chromosome II was used among sequence data from other Brucella species for an extensive comparative analysis with the genome of B. ovis, including genome size, G+C content, proteome composition, metabolism, the presence of urease, and numerous other features involved with pathogenicity.\"}]}Heres the paper in question, can you generate an appropriate json?:\n",
      "Genome Degradation in Brucella ovis Corresponds with Narrowing of Its Host Range and Tissue Tropism Brucella ovis is a veterinary pathogen associated with epididymitis in sheep. Despite its genetic similarity to the zoonotic pathogens B. abortus, B. melitensis and B. suis, B. ovis does not cause zoonotic disease. Genomic analysis of the type strain ATCC25840 revealed a high percentage of pseudogenes and increased numbers of transposable elements compared to the zoonotic Brucella species, suggesting that genome degradation has occurred concomitant with narrowing of the host range of B. ovis. The absence of genomic island 2, encoding functions required for lipopolysaccharide biosynthesis, as well as inactivation of genes encoding urease, nutrient uptake and utilization, and outer membrane proteins may be factors contributing to the avirulence of B. ovis for humans. A 26.5 kb region of B. ovis ATCC25840 Chromosome II was absent from all the sequenced human pathogenic Brucella genomes, but was present in all of 17 B. ovis isolates tested and in three B. ceti isolates, suggesting that this DNA region may be of use for differentiating B. ovis from other Brucella spp. This is the first genomic analysis of a non-zoonotic Brucella species. The results suggest that inactivation of genes involved in nutrient acquisition and utilization, cell envelope structure and urease may have played a role in narrowing of the tissue tropism and host range of B. ovis.Introduction Although previous studies have supported the notion of Brucella as a monospecies genus with different biotypes [1], it is still largely accepted that the genus Brucella is divided into six species, named according to their preferential hosts. Each one of the species is host-adapted, but not host-restricted [2]–[4]. Four of the six Brucella species, namely B. melitensis, B. abortus, B. suis, and B. canis, are capable of causing human disease. B. melitensis and B. suis are the most pathogenic, whereas B. abortus is considered of moderate pathogenicity, and B. canis is considered of low pathogenicity for humans. There are no reports of human infections with B. ovis or B. neotomae [3]. In addition to the six classical Brucella species, Brucella has also been isolated from marine mammals, and two species, B. pinnipedialis and B. ceti have been proposed [5]. Brucella isolates from marine mammals can cause human infections, with one reported case of infection due to laboratory exposure [6], and two reported cases of natural infections resulting in neurological disease [7]. Brucella ovis was initially recognized in the beginning of the 1950's in New Zealand and Australia as a bacterial agent associated with epididymitis and abortion in sheep [8]. Since then this organism has been isolated in several countries [9], and is considered one of the most important causes of ovine infertility, with a significant economic impact on the sheep industry [10]. B. ovis has a worldwide distribution in areas where sheep are economically significant, with the exception of the Great Britain [9]. The prevalence in herds ranges from 9.1 to 46.7% [11], and the seroprevalence within positive herds varies between 2.1 to 67% [11]–[14]. B. ovis is stably rough, and it is one of the two classical Brucella species that do not have zoonotic potential. In sheep, the organism causes either clinical or sub-clinical chronic infections characterized by epididymitis, orchitis, male infertility, and occasionally abortion in pregnant ewes [15]. Sexually mature rams are more susceptible than young males [16]. However, B. ovis infection may affect males as young as 4 months old [9]. Natural transmission apparently occurs through mucosal membranes, and venereal transmission is significant when a female previously mated with an infected male copulates with a second susceptible male during the same period of estrus [17]. Upon invasion through mucosal membranes, B. ovis initially resides in local lymph nodes, which is followed by bacteremia and finally colonization of the genital tract around 30 days post infection [18]. The factors defining the genital tropism of this organism remain unknown. Sequencing of B. melitensis, and B. suis genomes demonstrated a high level of similarity between the two genomes, with over 90% of the genes having more than 98–100% nucleotide identity [19]. Furthermore, comparison between these two species resulted in the identification of only 32 and 43 genes that were unique to B. melitensis and B. suis, respectively. This level of variability is remarkably low even when compared to variations between serotypes within the same bacterial species such as in serotypes Typhi and Typhimurium of Samonella enterica [20]. More recently, the complete genome sequence of B. abortus (strains 9–941 and 2308) became available confirming the striking similarity both among different species of Brucella and within the species B. abortus [21], [22]. Comparisons between these three Brucella species revealed more than 94% identity at the nucleotide level. In addition, comparisons between the genomes of the two B. abortus strains that have been sequenced (9–941 and 2308) resulted in identification of only a small number of strain-specific deletions and polymorphisms [21]. The genetic similarity among Brucella species has been confirmed by whole genome hybridizations [23]. Together these studies support the original hybridization studies performed more than 20 years ago suggesting that Brucella is a monospecific genus from the genetic point of view [1]. Considering the high level of identity among Brucella species pathogenic to humans, the comparison of those species with a Brucella lacking the potential to cause human infections may bring new insights into host specificity and pathogenesis. In this study we present the genome analysis of the rough non-human-pathogen Brucella ovis and compare its genome with those of the zoonotic Brucella spp. Our analysis focused on two sets of genomic features (i) deletions and gene degradation that could potentially result in loss of virulence factors important for infection of hosts other than sheep, and (ii) B. ovis-specific genes that could contribute to genital tract tropism or cause a reduction in virulence for non-ovine hosts.Results and Discussion General features of the B. ovis genome The B. ovis type strain ATCC25840 (also known as 63/290 or NCTC10512) used for sequencing was isolated from a sheep in Australia in 1960 [8]. The genome of this strain consists of two circular chromosomes of 2,111,370 bp (Chromosome I; NCBI Accession Number NC_009505) and 1,164,220 bp (Chromosome II; NCBI Accession Number NC_009504), which are predicted to encode a total of 2890 proteins, 1928 on ChrI and 962 on ChrII (Table 1). Features of the B. ovis genome are summarized in Table 1. Comparison with the sequenced genomes of B. suis (GenBank Accession numbers NC_004310 and NC_004311) [24], B. abortus (GenBank Accession numbers NC_007618 and NC_007624) [21], [22] and B. melitensis 16M (GenBank Accession numbers NC_003317 and NC_003318) [19] shows a large degree of conservation, particularly in the % G+C content and size of the chromosomes. This comparison also revealed several species-specific differences, including regions missing from B. ovis relative to the other sequenced Brucella genomes and genes unique to B. ovis. These differences are listed in Table 1 and Figures 1–2, and are discussed below. doi: 10.1371/journal.pone.0005519.g001 Figure 1 Whole genome alignment of sequenced Brucella strains. The five genomes were compared to each other by using COG, BLAST and HMM analyses. Each genome is colored with a gradient that ranges from yellow (nucleotide 1) to blue (end). Differences in color between a reference sequence (the bottom colored line in each set) and the other genomes indicate conserved protein-coding regions that have been rearranged. Uncolored segments denote coding regions in which no conserved genes were detected. The curves on top of each panel represent the nucleotide composition (Χ2 analysis) (see Materials and Methods) of the reference strain of the panel, and peaks indicate regions of atypical composition. doi: 10.1371/journal.pone.0005519.g002 Figure 2 Map of the B. ovis-specific island on Chromosome II, which resembles a composite transposon. Genes are color-coded according to functional predictions. doi: 10.1371/journal.pone.0005519.t001 Table 1 Characteristics of the B. ovis ATCC 25840 genome \"\",\"B. ovis ATCC 25840\",\"B. suis 13301\",\"B. abortus 23081\",\"B. melitensis 16 M2\" \"\",\"Chr I\",\"Chr II\",\"Chr I\",\"Chr II\",\"Chr I\",\"Chr II\",\"Chr I\",\"Chr II\" \"Size (bp)\",\"2,111,370\",\"1,164,220\",\"2,107,792\",\"1,207,381\",\"2,121,359\",\"1,156,950\",\"2,117,144\",\"1,177,787\" \"G+C content (%)\",\"57.2\",\"57.2\",\"57.2\",\"57.3\",\"57.2\",\"57.3\",\"57.2\",\"57.3\" \"No. of protein-coding genes\",\"1,928\",\"962\",\"2,123\",\"1,149\",\"2,000\",\"1,034\",\"2,090\",\"1,075\" \"No. of rRNA operons\",\"2\",\"1\",\"2\",\"1\",\"2\",\"1\",\"2\",\"1\" \"No. of tRNAs\",\"39\",\"14\",\"41\",\"14\",\"41\",\"14\",\"40\",\"14\" \"No. of pseudogenes\",\"119\",\"125\",\"61\",\"1\",\"186\",\"130\",\"83\",\"80\" \"% pseudogenes\",\"5.8\",\"11.5\",\"2.8\",\"0.1\",\"8.5\",\"11.2\",\"3.8\",\"6.9\" \"IS711 copies\",\"25\",\"13\",\"5\",\"2\",\"5\",\"2\",\"5\",\"2\" 1 obtained from NCBI2 obtained from the PATRIC database Comparison to B. suis, B. abortus, and B. melitensis proteomes There is a significant degree of overlap between the predicted proteomes of sequenced Brucella species. Comparative best-match blastp searches identified 2282 annotated proteins in B. ovis that are shared with B. suis, B. melitensis and B. abortus, 79% of the annotated proteome. Nonetheless, this analysis suggested that the B. ovis genome lacks 675, 610 and 539 protein coding genes annotated in B. suis, B. melitensis and B. abortus 2308, respectively (Table S3). To determine whether these genes are truly absent from the B. ovis genome they were compared to the B. ovis chromosomal sequences using blastn searches. Interestingly, good matches were found for 64, 125 and 18 genes thought to be lacking in B. ovis in the genomes of B. suis, B. melitensis and B. abortus 2308, respectively (Table S3). There are several possible reasons for these genes not being highlighted as shared using comparative best-match blastp searches, e.g., they may be pseudogenes in B. ovis and therefore, not part of the predicted proteome, they may be the products of duplications where only one duplication product is matched in best match searches or differences in gene annotation between the strains resulted in these sequences not being annotated as a protein coding gene in B. ovis. In total only 33 annotated protein coding genes in B. ovis are unique to this species. Genomic rearrangements Gradient figures were used to compare the chromosomes of B. ovis with those of the other sequenced Brucella genomes. No large inversions or rearrangements were observed in the B. ovis genome compared to the sequenced genomes of B. suis or B. melitensis (Figure 1). Genomic deletions Chromosome I Four deletions of 4 kb or larger were identified in the B. ovis genome, compared to its closest relative, B. suis. Chromosome I lacks a 15 kb region that encompasses B. suis BR0966-BR0987. Interestingly, in B. suis, this region is inserted into the sequence of tRNAgly and is adjacent to a phage integrase-like gene, features suggestive of horizontal gene transfer. This region contains the wboA glycosyl transferase gene, shown to be essential for lipopolysaccharide biosynthesis [25], and a second glycosyl transferase, as well as several hypothetical proteins. The lack of the two glycosyl transferases likely contributes to the rough LPS phenotype of B. ovis. These findings were in agreement with previous reports by Vizcaino et al and Rajashekara et al [23], [26] showing the absence of these genes from B. ovis. A second deletion on Chromosome I of 7745 bp encompasses BR1078-BR1083. This island in B. suis contains three hypothetical genes and two site specific recombinases and is flanked by two tRNA-Leu genes, of which one remains in B. ovis. A smaller deletion of 3954 bp on Chromosome I has led to loss of two genes (BR1852-BR1853) encoding a transcriptional regulator and a protein predicted to be a branched chain amino acid permease. This deletion is also associated with transposable elements, as these two genes in B. suis are flanked by copies of IS2020 [27], one of which remains in B. ovis. Chromosome II The 44.5 kb island in B. suis (BRA1074-BRA1113; [28]), containing four predicted ABC transport systems and three transcriptional regulators, is absent from the B. ovis genome. The presence of two copies of IS1239 flanking two pseudogenes in B. ovis suggests that this is the result of a loss of this region by recombination. The 18.3 kb IncP island on B. suis Chromosome II containing BRA0362-BRA0379, previously reported to be present in B. suis biovars 1–4, B. canis, B. neotomae, and marine mammal isolates but missing in B. melitensis [24], [28], is also absent from the B. ovis genome, as reported by Lavigne and colleagues [28]. Unique genomic regions Chromosome II, contains an island of 26.5 kb (BOV_A0482-BOV_A0515) with structure suggestive of a composite transposon (Fig. 2). This island likely overlaps the B. ovis-specific 21-kb SpeI fragment of the small chromosome identified previously by genome mapping [29]. Proteins encoded on the island include transposases, an ABC transporter, a putative hemagglutinin, and several hypothetical proteins. This region is present in 17/17 B. ovis strains tested, suggesting a high level of conservation within the species (Supplementary Table S2). Interestingly, the predicted product of BOV_A0497 exhibits similarity to antitoxins of toxin-antitoxin maintenance systems [30], suggesting a possible selective pressure for maintenance of this genetic island in B. ovis. Genome sequence data and analysis of the island by PCR showed that this region is absent from the genomes of B. suis, B. abortus, B. melitensis, B. canis and B. neotomae (Table 2), suggesting initially that it may be specific to B. ovis. However, we detected this island in three marine isolates of Brucella from captive bottlenose dolphins [31], [32]. The protein coding genes within this unique region constitute the majority of the unique protein coding genes in B. ovis (Supplementary Table S3). doi: 10.1371/journal.pone.0005519.t002 Table 2 Detection of the B. ovis genomic island in Brucella species \"\",\"Species\",\"\" \"ORF\",\"Brucella ovis\",\"B. melitensis\",\"B. abortus\",\"B. suis\",\"B. canis\",\"B. neotomae\",\"B. ceti (Muu)\",\"B. ceti (Cudo)\",\"B. ceti (Nor)\",\"NTC1\" \"A0492\",\"+\",\"−\",\"−\",\"−\",\"−\",\"−\",\"+\",\"+\",\"+\",\"−\" \"A0495\",\"+\",\"−\",\"−\",\"−\",\"−\",\"−\",\"+\",\"+\",\"+\",\"−\" \"A0496\",\"+\",\"−\",\"−\",\"−\",\"−\",\"−\",\"+\",\"+\",\"+\",\"−\" \"A0497\",\"+\",\"−\",\"−\",\"−\",\"−\",\"−\",\"+\",\"+\",\"+\",\"−\" \"A0500\",\"+\",\"−\",\"−\",\"−\",\"−\",\"−\",\"+\",\"+\",\"+\",\"−\" \"A0502\",\"+\",\"−\",\"−\",\"−\",\"−\",\"−\",\"+\",\"+\",\"+\",\"−\" \"A0503\",\"+\",\"−\",\"−\",\"−\",\"−\",\"−\",\"+\",\"+\",\"+\",\"−\" \"A0504\",\"+\",\"−\",\"−\",\"−\",\"−\",\"−\",\"+\",\"+\",\"+\",\"−\" \"A0505\",\"+\",\"−\",\"−\",\"−\",\"−\",\"−\",\"+\",\"+\",\"+\",\"−\" \"A0506\",\"+\",\"−\",\"−\",\"−\",\"−\",\"−\",\"+\",\"+\",\"+\",\"−\" \"A0511\",\"+\",\"−\",\"−\",\"−\",\"−\",\"−\",\"+\",\"+\",\"+\",\"−\" \"A0512\",\"+\",\"−\",\"−\",\"−\",\"−\",\"−\",\"+\",\"+\",\"+\",\"−\" \"BR06152\",\"+\",\"+\",\"+\",\"+\",\"+\",\"+\",\"+\",\"+\",\"+\",\"−\" 1 NTC, no template control2 Positive control for amplification reaction Transposable elements The genome of B. ovis contains 38 complete copies of IS711, confirming previous estimates obtained by hybridization [33]. 25 of the copies are located in Chromosome I, and 13 in Chromosome II. Interestingly, several of these copies appear to be expanded clonally, suggesting that they could be active in B. ovis. In 17 cases, IS711 is inserted in copies of a repeated sequence of the BruRS family [34]. Five of the IS711 copies appear to disrupt genes, which could be a contributing factor to the general process of genome degradation observed in B. ovis. A case of special interest is the B. ovis-specific island (see above), where a 25 kb region between two copies of IS711 in B. ovis is absent in all the other sequenced species, suggestive of either deletion by recombination between the two copies in the other Brucella species, or of acquisition of the region with duplication of IS711. Pseudogenes It has been proposed that the unique complement of pseudogenes in each of the Brucella species may contribute to their differing degrees of infectivity and host preference [21], [22]. Interestingly B. abortus, which is less virulent for humans than B. suis and B. melitensis, has a greater number of pseudogenes (316) than B. suis 1330 (62) or B. melitensis 16M (163) (Table 1). Similar to B. abortus, the B. ovis genome contains a large number of pseudogenes with 244 identified. The small chromosome contains more pseudogenes (125; 11.3%) than the large chromosome (119; 5.7%) (Table 1). Of the 244 B. ovis pseudogenes, 40 are hypothetical or conserved hypothetical genes, 62 have predicted transport functions, 23 are defective transposases, and 14 are predicted to have regulatory functions. The finding that some pseudogenes in the B. melitensis flagellar region encode full-length proteins raises the question of whether some pseudogenes in B. ovis may also be functional [35]. Metabolism Urease Based on biotyping, B. ovis is urease-negative. However it contains the two urease clusters described in all the other sequenced Brucella genomes. Urease has been reported to be important for the ability of B. abortus [36] and B. suis [37] to survive passage through the stomach in the mouse model of infection. The importance of urease for oral infection is consistent with a lack of human infections observed with B. ovis, despite identification of this organism in the milk of infected ewes [38]. The ure1 cluster is the only one showing urease activity at least in B. abortus, B. melitensis, and B. suis [36], [37], while the ure2 does not have any demonstrable urease activity. The ure1 cluster of B. ovis contains several point mutations that are predicted to result in conserved changes shared by at least one other urease positive species. However, UreC1 contains a 30 bp deletion that would cause a loss of 10 amino acids in UreC1. Although all the residues described to be important for enzymatic activity of UreC1 are conserved [39], this deletion must render the urease inactive. Moreover, complementation with the ureC1 gene from B. melitensis (Sangari, unpublished results) results in urease activity. Regarding the ure2 cluster, ureF2 (BOV_1316) and ureT (BOV_1319) are pseudogenes, while the remaining genes are conserved, suggesting that this cluster could encode an unknown activity. Sugar metabolism B. ovis is defective in oxidative metabolism of arabinose, galactose, ribose, xylose, glucose and erythritol [40]. Analysis of the genome sequence reveals a possible basis for these metabolic defects in B. ovis relative to the human pathogenic Brucella species. Several putative sugar transporters predicted to be functional in other Brucella species appear to be inactivated by frameshifts, point mutations or gene degradation in B. ovis. Further, pckA encoding phosphoenolpyruvate carboxykinase (BOV_2009) is inactivated by frameshift, which would affect the gluconeogenesis pathway and the ability of B. ovis to utilize pyruvate, amino acids, or glycerol as carbon sources. Erythritol Erythritol is the preferred carbon source of B. abortus [41], [42]. Erythritol is metabolized in Brucella by the enzymes encoded in the eryABCD operon[43] Moreover, it has been recently described that the carbohydrate transport system located upstream of the ery operon constitutes the erythritol transport system in Rhizobium leguminosarum bv. Viciae [44], and that the operon immediately downstream also forms part of the erythritol catabolic pathway. Microarray experiments have revealed that these three operons are regulated by erythritol in B. abortus, reinforcing that the three clusters participate in erythritol catabolism (Sangari et al, unpublished). B. ovis does not oxidize erythritol, and it is not inhibited by its presence in the growth media. This is reflected in the genome by the presence of a stop codon in eryA (BOV_A0811) and a frameshift in eryD (BOV_A0814) that render them pseudogenes. In addition two genes of the putative ABC erythritol transport system, eryF and eryG (BOV_A805 and BOV_A806)) carry mutations that render them pseudogenes (a 2 bp deletion resulting in an premature stop codon). The mutation in eryD could have an effect in the over expression of all genes of the ery system. On the contrary, mutations in the transport genes and in eryA block the entry of erythritol in the cell and its phosphorylation, avoiding the accumulation of toxic intermediates and the depletion of ATP observed in the vaccine strain S19 [45]. The accumulation of mutations in these two clusters suggest that they may no longer be needed by B. ovis. The third cluster is intact, and the enzymes use substrates that are central (or core) carbohydrate metabolites such as dihydroxyacetone phosphate, glyceraldehydes-3-phosphate, and other three carbon compounds that can be produced after decarboxylation of erythritol and its derivatives. While it has been hypothesized that erythritol may serve as a carbon source during growth of B. abortus, B. suis, and B. melitensis in the placenta of their natural hosts, an analysis of deletion mutants in these models has not been reported. However, the lower incidence of abortion in sheep flocks infected with B. ovis compared to B. melitensis correlates with the inability of B. ovis to use erythritol as a carbon source. Mutants in eryB and eryC have been described to have a limited ability to grow in macrophages [46]. This limitation may well contribute to the limited virulence of B. ovis. Glucose and Galactose Unlike B. melitensis, B. abortus and B. suis, B. ovis is unable to grow on glucose or galactose as a primary carbon source [40]. Analysis of genes involved in uptake and utilization of these carbon sources reveals that B. ovis gluP (BOV_A0172), encoding a glucose/galactose transporter [47] is a pseudogene. B. abortus gluP mutants have a reduced ability to persist in the spleens of mice [48], suggesting that the ability to utilize these carbon sources may be important for systemic persistence of the human pathogenic Brucella species. However B. suis also lacks GluP and is able to oxidize glucose and galactose, suggesting that additional functions are lacking in B. ovis that contribute to utilization of these carbon sources. Several predicted sugar ABC transporters (BOV_1299-BOV1301, BOV_A0278-BOV_A0282, BOV_A0645-BOV_A0648 and BOV_A1083-BOV_A1086) of unknown specificity contain pseudogenes, which may potentially reduce the ability of B. ovis to take up glucose and galactose. Ribose Two components, a permease and an ATP binding protein of a putative ribose ABC transport system (BOV_A0936-BOV_A0937) are pseudogenes in B. ovis, suggesting that the inability of B. ovis to utilize ribose as a sole carbon source may be the result of a reduced capacity to take up ribose from the growth medium. Similarly, a periplasmic binding protein and an ATP binding protein of a predicted ABC transporter for xylose (BOV_A1055-BOVA1056) contain frameshifts, which may underlie the inability of B. ovis to utilize xylose [40]. Oxidase phenotype B. ovis is the only Brucella species with a negative oxidase phenotype. Oxidase phenotype depends on the activity of cytochrome C oxidase which in B. suis is encoded by at least 7 genes, four of them organized in one operon, BR0363-BR0360 (ccoNOQP), together with BR0467 (coxB), encoding cytochrome c oxidase, subunit II, BR0468 (coxA) encoding cytochrome c oxidase, subunit I and BR0472 (coxC) encoding cytochrome c oxidase, subunit III. In B. ovis, the operon ccoNOQP (BOV_0376-BOV_0379), encoding the cb type cytochrome c oxidase is well conserved, except the gene ccoO (BOV_0378), which contains a frameshift generated by deletion of an A near its 5′ end, is a pseudogene. The B. ovis coxB gene (BOV_0473) contains a frameshift that very probably inactivates the gene, while coxA (BOV_0474) differs only in two residues with the B. suis product. The last 6 amino acids of coxC (BOV_0478) are lost as result of a short deletion (56 bp) that fuses this product with the next, apparently unrelated Orf. A short repeated sequence (GGGGCGGC) at both ends of the deletion seems to be responsible for this rearrangement. These genomic differences may be responsible for the oxidase negative phenotype of B. ovis. Nitrogen metabolism Several genes encoded in the B. suis genome with inferred functions in nitrogen metabolism are not predicted to be functional in the B. ovis genome. The genes norB (BOV_A0225), encoding the large subunit of nitric oxide reductase, and nosX (BOV_A0256), a gene of unknown function in the operon encoding nitric oxide synthase, are pseudogenes in B. ovis. The third gene, narK (BOV_A0276), encoding a nitrite extrusion protein, is degenerate, as was found in the B. melitensis and B. abortus 2308 genomes [21]. Nitric oxide reductase is required for survival and persistence of B. suis in mice [49], suggesting that lack of this activity in B. ovis may contribute to its restricted tissue tropism and host range. A locus that contributes to growth of E. coli on aspartate as a nitrogen source, xanthine dehydrogenase (BOV_0365-BOV_0367; [50]) contains a pseudogene in B. ovis, suggesting a further defect in nitrogen metabolism. Further, this locus could function in salvage pathways for purine nucleotides, which could contribute to nitrogen metabolism. A correlation between a defective purine nucleotide salvage pathway and reduced ability of B. ovis to survive intracellularly would be consistent with the importance of purine biosynthetic pathways for full virulence of B. abortus and B. melitensis [51], [52]. Further, a homolog of Sinorhizobium meliloti fixI (BOV_0373), encoding an cation pump involved in symbiotic nitrogen fixation [53], is inactivated by a point mutation in the B. ovis genome. As the function of the fixGHI genes in Brucella spp. has not been determined, the biological significance of this gene inactivation for B. ovis is currently unknown. Host-pathogen interactions Lipopolysaccharide B. ovis is known to have a rough LPS phenotype, which given the critical role of O-antigen in pathogenicity of B. abortus, B. suis and B. melitensis, likely contributes to its reduced pathogenicity for laboratory animals compared to other Brucella spp. [8], [54], [55]. As mentioned above, the wboA gene is missing from B. ovis, as well as a second, genetically linked glycosyltransferase. Pseudogenes with a possible function in LPS biosynthesis include a glycosyltransferase (BOV_A0475), an LpxA family acetyltransferase (BOV_A0367) and a putative undecaprenylphosphate alpha-N-acetylglucosamine transferase (BOV_A0371) of which the latter may also be involved in murein biosynthesis. While it is known that B. ovis LPS has a higher affinity for antimicrobial peptides than that of B. abortus, it is unknown whether differences in LPS structure compared to smooth Brucella species affect the interaction of B. ovis LPS with toll-like receptors of the innate immune system [56], [57]. Type IV secretion system (T4SS) The T4SS, encoded by virB1-virB12, is an essential virulence factor in B. abortus, B. suis, and B. melitensis [48], [58]–[60]. The genes virB1-VirB12 are intact in the B. ovis genome, suggesting that this system is functional. Further, the gene encoding its transcriptional activator VjbR (BOVA_0110; [61]) is conserved. These findings are consistent with the detection of VirB5 and VirB8 expression in B. ovis [62]. Two co-regulated genes identified as encoding T4SS substrates, vceA (BOV_1577) and vceC (BOV_1003) are present in B. ovis, however it is currently unknown whether there may be additional T4SS effectors in other Brucella spp. that are absent from B. ovis [63]. A recent report showing that B. ovis strain PA is able to replicate in macrophages and HeLa cells at a rate similar to that of B. abortus suggests that its T4SS is functional [64]. Autotransporter proteins Four predicted autotransporters have been identified in the sequenced Brucella genomes. Each of the sequenced Brucella genomes is predicted to encode a different combination of autotransporters [21], suggesting that none of these four proteins is essential for virulence, but that different combinations of autotransporters may contribute to observed differences in tissue tropism and host preference. The B. ovis genome is predicted to encode three functional autotransporters, corresponding to B. suis BR0072, BRA0173 and BRA1148, (BOV_0071, BOV_A0152 and BOV_A1053) while the fourth gene, BOV_1937, corresponding to BR2013, is degenerate. These proteins show a range in similarity (at the amino acid level) to their B. suis counterparts, from 99% between BRA1148 and BOV_A1053, to 86% similarity between BOV_A0152 and BRA0173. BR2013, designated omaA, is a pseudogene in both B. abortus and B. melitensis, and was noted to have a polymorphism with unknown functional effects in the genome of vaccine strain B. abortus 19 [65]. Since the product of this gene has been shown to contribute to persistence of B. suis in mice [66], it is possible that lack of a functional OmaA autotransporter in B. ovis may contribute to its limited tissue tropism and host range. However, the finding that all four autotransporter genes are predicted to be pseudogenes in B. melitensis, shows that they are not absolutely required for infectivity and transmission. Immunomodulatory functions In addition to the T4SS, several genes implicated in modulation of the immune response by Brucella spp., are well-conserved in B. ovis ATCC25840. These include btp1, encoding the TIR domain protein, an inhibitor of TLR2 signaling, the B cell mitogen encoded by prpA, and cyclic β-glucan synthase [67]–[70]. Outer membrane proteins The two component regulator BvrR/BvrS, which has been shown to be a master regulator of many virulence-associated functions [71], [72], appears intact in B. ovis. However, a putative envZ osmosensor (BOV_A0412) is a pseudogene. Two genes shown to encode outer membrane proteins in other Brucella species omp2a (BOV_0632 [73]) and omp31 (BOV_1565; [74]), contain point mutations in B. ovis. For Omp31, the point mutation is predicted to lead to a truncation in the protein. It was found previously that the outer membrane of B. ovis is more susceptible to cationic peptides than a rough B. abortus mutant [56], suggesting that together with the defects in LPS biosynthesis discussed above, these defects in outer membrane components may further compromise the cell envelope stability of B. ovis making it less able to survive environmental stresses. Perspective The unique biology of Brucella ovis compared to the human pathogenic species appears to be in part the result of genome degradation. Worldwide, the majority of human brucellosis cases occur via ingestion of contaminated dairy products. B. ovis is not known to cause human infection, despite worldwide consumption of unpasteurized sheep's milk, where B. ovis has been detected [38]. Oral transmission, although feasible in experimental conditions, does not appear to be one of the main routes of infection for B. ovis, whereas passive venereal transmission via the ewe is the most important one [75]. This suggests that this species has lost the ability to infect via the oral route. One genomic change that may contribute to this loss of oral infectivity is the loss of an important virulence factor, urease, that is required for survival of stomach acidity by Brucella spp [36], [37]. Urease has also been shown to contribute to the establishment of Actinobacillus pleuropneumoniae infection in pigs through the respiratory tract [76]. If this mechanism is also operative in Brucella spp., then it is possible that B. ovis is also deficient in establishing infections not only by the digestive route but also via aerosol inhalation, which are the two main routes of infection by human pathogenic Brucella spp. Additional genes that seem to be non-functional in B. ovis could also contribute to reduce the number of transmission routes compared to other Brucella species. A characteristic of B. ovis is its tropism for the ovine male genital tract, which presents as epididymo-orchitis [8]. Since other Brucella species, especially B. melitensis are known to cause epididymo-orchitis in human patients [77], the predilection of B. ovis to cause epididymo-orchitis in rams likely represents a loss of functions required to target to other tissues. However, due to the large number of genes in the B. ovis genome with unknown function, a gain of functions that allow for increased colonization of the male genital tract cannot be ruled out based on the genome sequence.Materials and Methods Genome sequencing and annotation The complete genome sequence of Brucella ovis strain ATCC25840 was determined using the whole-genome shotgun method as previously described [78]. Physical and sequencing gaps were closed using a combination of primer walking, generation and sequencing of transposon-tagged libraries of large-insert clones, and multiplex PCR [79]. Identification of putative protein-encoding genes and annotation of the genome were performed as previously described [24]. An initial set of genes predicted to encode proteins was identified with GLIMMER [80]. Genes consisting of fewer than 30 codons and those containing overlaps were eliminated. Frame shifts and point mutations were corrected or designated ‘authentic.’ Functional assignment, identification of membrane-spanning domains, and determination of paralogous gene families were performed as previously described [24]. Sequence alignments and phylogenetic trees were generated using the methods described previously [24]. Trinucleotide composition Distribution of all 64 trinucleotides (3-mers) was determined, and the 3-mer distribution in 1,000-bp windows that overlapped by half their length (500 bp) across the genome was computed. For each window, we computed the χ2 statistic on the difference between its 3-mer content and that of the whole chromosome. A large value for indicates the 3-mer composition in this window is different from the rest of the chromosome (minimum of two standard deviations). Probability values for this analysis are based on assumptions that the DNA composition is relatively uniform throughout the genome, and that 3-mer composition is independent. Because these assumptions may be incorrect, we prefer to interpret high χ2 values as indicators of regions on the chromosome that appear unusual and demand further scrutiny. Comparative genomics The B. ovis ATCC25840 genome was compared to the genomes of B. suis 1330, B. abortus 2308, B. abortus 9-941, and B. melitensis 16M (PATRIC), at the nucleotide level by suffix tree analysis using MUMmer [81], and the predicted B. ovis CDSs were compared with the gene sets from the other sequenced Brucella genomes by BLAST and by HMM paralogous family searches, as previously described [82]. Analysis of the B. ovis-specific island Genomic DNA from B. ovis strains and other Brucella species (B. melitensis, B. suis, B. abortus, B. canis, B. neotomae, and B. pinnipedialis) were subjected to PCR amplification of 12 target sequences within the B. ovis-specific island. PCR reactions were performed using 13 µL of a commercial PCR mix (PCR Supermix, Invitrogen, USA), 0.75 µL of a 25 µM solution of each primer (Supplementary Table S1), and 1 µL of DNA (100 to 500 ng per reaction). Cycling parameters were denaturation at 95°C for 5 minutes; 35 cycles of denaturation (95°C for 1 min seconds), annealing (55°C for 1 min), and extension (72°C for 1 min); and a final extension at 72°C for 5 min. PCR products were resolved by agarose gel electrophoresis. GenBank accession The genomic sequence data are available at GenBank under accession numbers NC_009505 (Chromosome I) and NC_009504 (Chromosome II).Supporting Information pone.0005519.s001 Table S1 PCR primers used to detect the B. ovis-specific island genes and product sizes. (0.06 MB DOC)pone.0005519.s001.doc Click here for additional data file. pone.0005519.s002 Table S2 Presence of the B. ovis-specific island in a panel of B. ovis isolates (0.09 MB DOC)pone.0005519.s002.doc Click here for additional data file. pone.0005519.s003 Table S3 Matches of B. ovis 25840 predicted genes with B. abortus 9-941, B. abortus 2308, B. melitensis 16M, and B. suis 1330. The 33 genes unique to B. ovis are at the top of the table. Genes missing from B. ovis that are present in the other genomes are given with a dashed line. Genes for which there is no annotation, but for which BLASTN detected the DNA sequence in the genome, are shown in bold type. These include differences resulting from annotation of the genomes. Note that the B. melitensis 16M locus designations are from PATRIC and do not match the locus tags from the annotation deposited at NCBI. (0.55 MB XLS)pone.0005519.s003.xls Click here for additional data file.Competing Interests: The authors have declared that no competing interests exist.Funding: This work was supported by the Defense Advanced Research Projects Agency and National Institutes of Health, National Institute of Allergy and Infectious Disease Grant 1U01AI49036-01. Work in RTs laboratory is supported by NIH/NIAID award AI050553. RLS is a recipient of a fellowship from CNPq (Conselho Nacional de Desenvolvimento Cientifico e Tecnologico, Brazil). Work in FJS lab was supported by the Ministerio de Ciencia y Tecnologia of Spain (BIO2007-63656). The funders had no role in study design, data collection and analysis, decision to publish, or preparation of the manuscript.The authors thank Shirley Halling for providing genomic DNA for the sequencing project, Tom Ficht for providing DNA from marine Brucella isolates, and two anonymous reviewers for helpful comments on the analysis.\n",
      "Please ensure that the output is in the format as you can see below\n",
      "{\"accession\": \"ACCESSION str\", \"data_accessed\": \"True OR False bool\", \"pmcid\": \"PMCID str\", \"summary\": \"SUMMARY VALUE str\", \"tools_software\": [{\"tool\": \"TOOL NAME str\"}, {\"tool\": \"TOOL NAME str\"}, {\"tool\": \"TOOL NAME str\"}], \"use_cases\": [{\"case\": \"USE CASE DESC str\"}, {\"case\": \"USE CASE DESC str\"}, {\"case\": \"USE CASE DESC str\"}]}\n"
     ]
    }
   ],
   "source": [
    "full_prompt = PromptModule(pp.prompt, pp2.prompt, pp3.prompt).construct_prompt\n",
    "print(full_prompt())"
   ]
  },
  {
   "cell_type": "code",
   "execution_count": 78,
   "id": "fa2fda50",
   "metadata": {},
   "outputs": [],
   "source": [
    "class GenericPrompt():\n",
    "    def __init__(self,\n",
    "                dataset,\n",
    "                target_key, \n",
    "                include_metadata=False,\n",
    "                prompt_front='', # [A]  ALWAYS includes text (never paper or json)\n",
    "                prompt_middle='', # [B] i.e. here's the paper in question:\n",
    "                prompt_end='', # [C]\n",
    "                include_rag_example=False, # pulls relevant rag based on target key\n",
    "                include_example_output=2, # Position 3\n",
    "                include_paper=1, # Middle prompt\n",
    "                paper_length=None\n",
    "                ):\n",
    "\n",
    "        self.dataset = dataset\n",
    "        self.target_key = target_key\n",
    "        \n",
    "        self.include_metadata = include_metadata\n",
    "        if self.include_metadata:\n",
    "            self.metadata = ds.get_metadata(target_key)\n",
    "        \n",
    "        self.prompt_front = prompt_front        # [A] \n",
    "        self.prompt_middle = prompt_middle      # [B]\n",
    "        self.prompt_end = prompt_end            # [C]\n",
    "        \n",
    "        #lets set some variables\n",
    "        self.include_paper = include_paper\n",
    "        self.paper_name = self.get_pmcid(self.target_key) #PMCID\n",
    "        self.paper_length = paper_length\n",
    "        self.paper = self.get_paper() # Stored separately bc we don't want to log this\n",
    "\n",
    "        self.include_rag_example = include_rag_example\n",
    "        self.include_example_output = include_example_output\n",
    "        self.example_output = self.get_example_output_file()\n",
    "\n",
    "        self.prompt = self.build_prompt()\n",
    "\n",
    "\n",
    "    def build_prompt(self):\n",
    "        # should extend to 5 in the case of yes to paper, example output and 3 different prompts input?\n",
    "        idxs = [x for x in range(3)] # list [1,2,3]\n",
    "        prompt_dict = {x: '' for x in range(3)} # creates dict {1:'', 2:'', 3:''}\n",
    "        prompt_dict[0] = self.prompt_front\n",
    "        prompt_dict[1] = self.prompt_middle\n",
    "        prompt_dict[2] = self.prompt_end\n",
    "        if self.include_paper:\n",
    "            prompt_dict[1] = prompt_dict[1] + self.paper\n",
    "        if self.include_example_output:\n",
    "            prompt_dict[2] = prompt_dict[2] + self.example_output\n",
    "        return '\\n'.join(list(prompt_dict.values()))\n",
    "        \n",
    "\n",
    "    def get_pmcid(self, target_key):\n",
    "        return self.dataset.key_paper_dict[target_key]\n",
    "    \n",
    "\n",
    "    def get_paper(self):\n",
    "        paper = self.dataset.paper_dict[self.paper_name]\n",
    "        paper = ' '.join(paper)\n",
    "        if self.paper_length:\n",
    "            paper = paper[self.paper_length]\n",
    "        return paper\n",
    "    \n",
    "    # If the prompt is RAG --> pull relevant json\n",
    "    # If not rag but want example_output --> pull the template\n",
    "    def get_example_output_file(self):\n",
    "        if self.include_rag_example:\n",
    "            example_output_path = f'labels/{self.paper_name}_{self.target_key}.json'\n",
    "        else:\n",
    "            example_output_path = 'labels/response_template.json'\n",
    "        example_output = get_json(example_output_path)\n",
    "        example_output = json.dumps(example_output)[:10]\n",
    "        return example_output"
   ]
  },
  {
   "cell_type": "code",
   "execution_count": 15,
   "id": "485a3642",
   "metadata": {},
   "outputs": [
    {
     "data": {
      "text/plain": [
       "'onetwothree'"
      ]
     },
     "execution_count": 15,
     "metadata": {},
     "output_type": "execute_result"
    }
   ],
   "source": [
    "pm = PromptModule()\n",
    "pm.construct_prompt('one', 'two', 'three')"
   ]
  },
  {
   "cell_type": "code",
   "execution_count": 14,
   "id": "71e14943",
   "metadata": {},
   "outputs": [
    {
     "data": {
      "text/plain": [
       "('PMC3407220', 150)"
      ]
     },
     "execution_count": 14,
     "metadata": {},
     "output_type": "execute_result"
    }
   ],
   "source": [
    "target_key = 'CP000029'\n",
    "pmcid = ds.key_paper_dict['CP000029']\n",
    "paper = ds.paper_dict[pmcid]\n",
    "pmcid, len(paper)"
   ]
  },
  {
   "cell_type": "code",
   "execution_count": 19,
   "id": "bb00e749",
   "metadata": {},
   "outputs": [
    {
     "data": {
      "text/plain": [
       "['The Two-Component Signal Transduction System ArlRS Regulates Staphylococcus epidermidis Biofilm Formation in an ica-Dependent MannerDue to its ability to form biofilms on medical devices, Staphylococcus epidermidis has emerged as a major pathogen of nosocomial infections. In this study, we investigated the role of the two-component signal transduction system ArlRS in regulating S. epidermidis biofilm formation. An ArlRS-deficient mutant, WW06, was constructed using S. epidermidis strain 1457 as a parental strain. Although the growth curve of WW06 was similar to that of SE1457, the mutant strain was unable to form biofilms in vitro. In a rabbit subcutaneous infection model, sterile disks made of polymeric materials were implanted subcutaneously followed with inoculation of WW06 or SE1457. The viable bacteria cells of WW06 recovered from biofilms on the embedded disks were much lower than that of SE1457. Complementation of arlRS genes expression from plasmid in WW06 restored biofilm-forming phenotype both in vivo and in vitro. WW06 maintained the ability to undergo initial attachment. Transcription levels of several genes involved in biofilm formation, including icaADBC, sigB, and sarA, were decreased in WW06, compared to SE1457; and icaR expression was increased in WW06, detected by real-time reverse-transcription PCR. The biofilm-forming phenotype was restored by overexpressing icaADBC in WW06 but not by overexpressing sigB, indicating that ArlRS regulates biofilm formation through the regulation of icaADBC. Gel shift assay showed that ArlR can bind to the promoter region of the ica operon. In conclusion, ArlRS regulates S. epidermidis biofilm formation in an ica-dependent manner, distinct from its role in S. aureus.Introduction',\n",
       " 'Staphylococcus epidermidis is an opportunistic pathogen that normally colonizes human skin and mucosal surfaces. Over the past two decades, S. epidermidis has emerged as a major pathogen of nosocomial infections, particularly infections involving indwelling medical device [1]–[3]. S. epidermidis pathogenesis is associated with its ability to colonize polymer surfaces to form multilayered biofilms, which impair the efficacy of antibiotic treatments and serve to protect the bacteria from the host immune system [4], [5].']"
      ]
     },
     "execution_count": 19,
     "metadata": {},
     "output_type": "execute_result"
    }
   ],
   "source": [
    "paper[:2]"
   ]
  },
  {
   "cell_type": "code",
   "execution_count": 28,
   "id": "d6e8bc75",
   "metadata": {},
   "outputs": [
    {
     "name": "stdout",
     "output_type": "stream",
     "text": [
      "one\n",
      "The Two-Component Signal Transduction System ArlRS Regulates Staphylococcus epidermidis Biofilm Formation in an ica-Dependent MannerDue to its ability to form biofilms on medical devices, Staphylococcus epidermidis has emerged as a major pathogen of nosocomial infections. In this study, we investigated the role of the two-component signal transduction system ArlRS in regulating S. epidermidis biofilm formation. An ArlRS-deficient mutant, WW06, was constructed using S. epidermidis strain 1457 as a parental strain. Although the growth curve of WW06 was similar to that of SE1457, the mutant strain was unable to form biofilms in vitro. In a rabbit subcutaneous infection model, sterile disks made of polymeric materials were implanted subcutaneously followed with inoculation of WW06 or SE1457. The viable bacteria cells of WW06 recovered from biofilms on the embedded disks were much lower than that of SE1457. Complementation of arlRS genes expression from plasmid in WW06 restored biofilm-forming phenotype both in vivo and in vitro. WW06 maintained the ability to undergo initial attachment. Transcription levels of several genes involved in biofilm formation, including icaADBC, sigB, and sarA, were decreased in WW06, compared to SE1457; and icaR expression was increased in WW06, detected by real-time reverse-transcription PCR. The biofilm-forming phenotype was restored by overexpressing icaADBC in WW06 but not by overexpressing sigB, indicating that ArlRS regulates biofilm formation through the regulation of icaADBC. Gel shift assay showed that ArlR can bind to the promoter region of the ica operon. In conclusion, ArlRS regulates S. epidermidis biofilm formation in an ica-dependent manner, distinct from its role in S. aureus.Introduction Staphylococcus epidermidis is an opportunistic pathogen that normally colonizes human skin and mucosal surfaces. Over the past two decades, S. epidermidis has emerged as a major pathogen of nosocomial infections, particularly infections involving indwelling medical device [1]–[3]. S. epidermidis pathogenesis is associated with its ability to colonize polymer surfaces to form multilayered biofilms, which impair the efficacy of antibiotic treatments and serve to protect the bacteria from the host immune system [4], [5].\n",
      "two\n"
     ]
    }
   ],
   "source": [
    "print(pm.construct_prompt('one\\n', ' '.join(paper[:2]), '\\ntwo'))"
   ]
  },
  {
   "cell_type": "code",
   "execution_count": 24,
   "id": "1465e4c5",
   "metadata": {},
   "outputs": [
    {
     "data": {
      "text/plain": [
       "['The Two-Component Signal Transduction System ArlRS Regulates Staphylococcus epidermidis Biofilm Formation in an ica-Dependent MannerDue to its ability to form biofilms on medical devices, Staphylococcus epidermidis has emerged as a major pathogen of nosocomial infections. In this study, we investigated the role of the two-component signal transduction system ArlRS in regulating S. epidermidis biofilm formation. An ArlRS-deficient mutant, WW06, was constructed using S. epidermidis strain 1457 as a parental strain. Although the growth curve of WW06 was similar to that of SE1457, the mutant strain was unable to form biofilms in vitro. In a rabbit subcutaneous infection model, sterile disks made of polymeric materials were implanted subcutaneously followed with inoculation of WW06 or SE1457. The viable bacteria cells of WW06 recovered from biofilms on the embedded disks were much lower than that of SE1457. Complementation of arlRS genes expression from plasmid in WW06 restored biofilm-forming phenotype both in vivo and in vitro. WW06 maintained the ability to undergo initial attachment. Transcription levels of several genes involved in biofilm formation, including icaADBC, sigB, and sarA, were decreased in WW06, compared to SE1457; and icaR expression was increased in WW06, detected by real-time reverse-transcription PCR. The biofilm-forming phenotype was restored by overexpressing icaADBC in WW06 but not by overexpressing sigB, indicating that ArlRS regulates biofilm formation through the regulation of icaADBC. Gel shift assay showed that ArlR can bind to the promoter region of the ica operon. In conclusion, ArlRS regulates S. epidermidis biofilm formation in an ica-dependent manner, distinct from its role in S. aureus.Introduction',\n",
       " 'Staphylococcus epidermidis is an opportunistic pathogen that normally colonizes human skin and mucosal surfaces. Over the past two decades, S. epidermidis has emerged as a major pathogen of nosocomial infections, particularly infections involving indwelling medical device [1]–[3]. S. epidermidis pathogenesis is associated with its ability to colonize polymer surfaces to form multilayered biofilms, which impair the efficacy of antibiotic treatments and serve to protect the bacteria from the host immune system [4], [5].']"
      ]
     },
     "execution_count": 24,
     "metadata": {},
     "output_type": "execute_result"
    }
   ],
   "source": [
    "paper[:2]"
   ]
  },
  {
   "cell_type": "code",
   "execution_count": 94,
   "id": "c14f7e9f",
   "metadata": {},
   "outputs": [],
   "source": [
    "og_p = Prompt(ds, ds.target_keys[0], include_example_output=False)\n",
    "rag_prompt = Prompt(ds, ds.target_keys[1], \n",
    "                    include_example_output=True,\n",
    "                    front_prompt_base='***\\n\\nThis is the start of rag example\\n',\n",
    "                    front_prompt_head='NAH\\n',\n",
    "                    middle_prompt_base='right before the paper\\n',\n",
    "                    middle_prompt_head='\\nright after that paper\\n',\n",
    "                    end_prompt_base='Make sure you keep it in list format ya freak\\n',\n",
    "                    end_prompt_head=f'We want the output to feature only valid json like this \\n {og_p.json_template}'\n",
    "        )"
   ]
  },
  {
   "cell_type": "code",
   "execution_count": 93,
   "id": "3cfc2568",
   "metadata": {},
   "outputs": [
    {
     "data": {
      "text/plain": [
       "(\"{'accession': 'ACCES\", \"{'accession': 'NC_003317', 'data_accessed': 'True'\")"
      ]
     },
     "execution_count": 93,
     "metadata": {},
     "output_type": "execute_result"
    }
   ],
   "source": [
    "og_p.json_template[:20], og_p.example_output[:50]"
   ]
  },
  {
   "cell_type": "code",
   "execution_count": 95,
   "id": "279eea80",
   "metadata": {},
   "outputs": [
    {
     "data": {
      "text/plain": [
       "\"**** HERE'S THE PAPER****\""
      ]
     },
     "execution_count": 95,
     "metadata": {},
     "output_type": "execute_result"
    }
   ],
   "source": [
    "rag_prompt.build_full_prompt(front)"
   ]
  },
  {
   "cell_type": "code",
   "execution_count": 85,
   "id": "bcc52fbd",
   "metadata": {},
   "outputs": [
    {
     "name": "stdout",
     "output_type": "stream",
     "text": [
      "This is the start\n",
      "NAH\n",
      "right before the paper\n",
      "**** HERE'S THE PAPER****\n",
      "right after that paper\n",
      "Make sure you keep it in list format ya freak\n",
      "We want the output to feature only valid json like this \n",
      " {'accession': 'ACCESSION str', 'data_accessed': 'True OR False bool', 'pmcid': 'PMCID str', 'summary': 'SUMMARY VALUE str', 'tools_software': [{'tool': 'TOOL NAME str'}, {'tool': 'TOOL NAME str'}, {'tool': 'TOOL NAME str'}], 'use_cases': [{'case': 'USE CASE DESC str'}, {'case': 'USE CASE DESC str'}, {'case': 'USE CASE DESC str'}]}\n"
     ]
    }
   ],
   "source": [
    "p = Prompt(\n",
    "            ds,\n",
    "            ds.target_keys[0],\n",
    "            front_prompt_base='This is the start\\n',\n",
    "            front_prompt_head='NAH\\n',\n",
    "            middle_prompt_base='right before the paper\\n',\n",
    "            middle_prompt_head='\\nright after that paper\\n',\n",
    "            end_prompt_base='Make sure you keep it in list format ya freak\\n',\n",
    "            end_prompt_head=f'We want the output to feature only valid json like this \\n {og_p.json_template}'\n",
    "        )\n",
    "print(p.build_full_prompt())"
   ]
  },
  {
   "cell_type": "code",
   "execution_count": null,
   "id": "da8bbb29",
   "metadata": {},
   "outputs": [],
   "source": []
  },
  {
   "cell_type": "code",
   "execution_count": 87,
   "id": "8b514738",
   "metadata": {},
   "outputs": [],
   "source": [
    "'''\n",
    "Idea is to have option to configure information in 6 differnet places\n",
    "    Both before and after the paper\n",
    "[A] Position is where we add our normal prompt\n",
    "[B] Is where additional information can be added\n",
    "    --> this can be metadata, example json files, model outputs (i.e. summary)\n",
    "\n",
    "1) [0-A] i.e. The user would like information on target keys usage in PMCID \n",
    "2) [0-B] i.e Here is a summary of the paper --> {paper summary (model output)}\n",
    "\n",
    "3) [1-A] i.e. Please provide information on the tools used on target key in PMCID\n",
    "** Paper **\n",
    "4) [1-B] i.e. BLANK (for this example)\n",
    "\n",
    "5) [2-A] i.e. Please provide information on the tools used on target key in PMCID *reminder from [1-A]*\n",
    "6) [2-B] i.e. Ensure that the output is in a list format without additional artifcats\n",
    "                    ^ or the template json couldve been added here\n",
    "\n",
    "'''\n",
    "\n",
    "class Prompt():\n",
    "    def __init__(self,\n",
    "                dataset,\n",
    "                target_key,  \n",
    "                front_prompt_base='', # [0-A] i.e. Pre-paper\n",
    "                front_prompt_head='', # [0-B] i.e Pre-paper\n",
    "                middle_prompt_base='', # [1-A] \n",
    "                middle_prompt_head='', # [1-B]\n",
    "                end_prompt_base='', # [2-A] i.e post paper \n",
    "                end_prompt_head='', # [2-B] i.e post paper\n",
    "                debug_prompt=False,\n",
    "                include_metadata=False,\n",
    "                include_example_output=False,\n",
    "                example_output_path=None,\n",
    "                ):\n",
    "        self.dataset = dataset\n",
    "        self.target_key = target_key\n",
    "\n",
    "        self.paper_name = self.get_pmcid(self.target_key) #PMCID\n",
    "        self.paper = \"**** HERE'S THE PAPER****\"\n",
    "        #self.get_paper(self.paper_name) # Stored separately bc we don't want to log this\n",
    "\n",
    "        # Json template -- do we always want this generated??\n",
    "        self.json_template_path = 'labels/response_template.json'\n",
    "        self.json_template = self.get_json_str(self.json_template_path)\n",
    "\n",
    "        # Rag example stuff -- does this always want to be done?\n",
    "        self.include_example_output = include_example_output\n",
    "        if self.include_example_output:\n",
    "            self.example_output_path = f'labels/{self.paper_name}_{self.target_key}.json'\n",
    "            self.example_output = self.get_json_str(self.example_output_path)\n",
    "\n",
    "        self.include_metadata = include_metadata\n",
    "        self.debug_prompt = debug_prompt\n",
    "        \n",
    "        if self.include_metadata:\n",
    "            self.metadata = ds.get_metadata(target_key)\n",
    "\n",
    "        self.front_prompt_base = front_prompt_base # [0-A] i.e. Pre-paper\n",
    "        self.front_prompt_head = front_prompt_head # [0-B] i.e Pre-paper\n",
    "        self.middle_prompt_base = middle_prompt_base # [1-A] \n",
    "        self.middle_prompt_head = middle_prompt_head # [1-B]\n",
    "        self.end_prompt_base = end_prompt_base # [2-A] i.e post paper \n",
    "        self.end_prompt_head = end_prompt_head # [2-B] i.e post paper\n",
    "\n",
    "        self.front_prompt = self.build_component(front=self.front_prompt_base, \n",
    "                                                 end=self.front_prompt_head)\n",
    "        self.middle_prompt = self.build_component(front=self.middle_prompt_base,\n",
    "                                                  middle=self.paper, \n",
    "                                                  end=self.middle_prompt_head)\n",
    "        self.end_prompt = self.build_component(front=self.end_prompt_base, \n",
    "                                               end=self.end_prompt_head)\n",
    "\n",
    "\n",
    "    def get_pmcid(self, target_key):\n",
    "        return self.dataset.key_paper_dict[target_key]\n",
    "    \n",
    "\n",
    "    def get_paper(self, paper_name,): \n",
    "        paper = self.dataset.paper_dict[paper_name]\n",
    "        paper = ' '.join(paper) + '\\n'\n",
    "        return paper\n",
    "    \n",
    "\n",
    "    def get_json_str(self, \n",
    "                        path):\n",
    "        json_contents = get_json(path)\n",
    "        return str(json_contents)\n",
    "    \n",
    "\n",
    "    def build_component(self,\n",
    "                        front='',\n",
    "                        middle='',\n",
    "                        end=''):\n",
    "        return front + middle + end\n",
    "        \n",
    "        \n",
    "    def build_full_prompt(self,):\n",
    "        return self.front_prompt + self.middle_prompt + self.end_prompt\n",
    "    ## Should there be some check done to ensure new lines are added between prompt modules?\n"
   ]
  },
  {
   "cell_type": "code",
   "execution_count": 33,
   "id": "9284eb82",
   "metadata": {},
   "outputs": [
    {
     "data": {
      "text/plain": [
       "\"meow{'accession': 'ACCESSION str', 'data_accessed': 'True OR False bool', 'pmcid': 'PMCID str', 'summary': 'SUMMARY VALUE str', 'tools_software': [{'tool': 'TOOL NAME str'}, {'tool': 'TOOL NAME str'}, {'tool': 'TOOL NAME str'}], 'use_cases': [{'case': 'USE CASE DESC str'}, {'case': 'USE CASE DESC str'}, {'case': 'USE CASE DESC str'}]}\""
      ]
     },
     "execution_count": 33,
     "metadata": {},
     "output_type": "execute_result"
    }
   ],
   "source": [
    "'meow' + str(get_json('labels/response_template.json'))"
   ]
  },
  {
   "cell_type": "code",
   "execution_count": null,
   "id": "f04b8814-0635-4149-865b-e2ff47bbde6e",
   "metadata": {
    "tags": []
   },
   "outputs": [
    {
     "data": {
      "application/vnd.jupyter.widget-view+json": {
       "model_id": "28d4e37bc2ec480abf2c3fe84936b16d",
       "version_major": 2,
       "version_minor": 0
      },
      "text/plain": [
       "Loading checkpoint shards:   0%|          | 0/4 [00:00<?, ?it/s]"
      ]
     },
     "metadata": {},
     "output_type": "display_data"
    }
   ],
   "source": [
    "model_type = 'l8' #l8 --> llama8B; l70 --> 70B; l405 --> 405B\n",
    "pipeline = get_pipeline(model_type, eigth_bit=False, four_bit=True)"
   ]
  },
  {
   "cell_type": "code",
   "execution_count": 4,
   "id": "7f0d2f0f-8edf-422e-afed-2eb9889033bd",
   "metadata": {},
   "outputs": [],
   "source": [
    "#! nvidia-smi"
   ]
  },
  {
   "cell_type": "code",
   "execution_count": 4,
   "id": "cab6b0d7-bb6b-4d87-9540-781f8d8c92da",
   "metadata": {
    "tags": []
   },
   "outputs": [],
   "source": [
    "system_directions = \"Your output should only feature valid json and no text should be outside of the json format\\n\\\n",
    "The user would like to know more information about specific items of genomic data\\n\\\n",
    "Please include information about tool use and please validate the JSON output prior to showing it.\"\n"
   ]
  },
  {
   "cell_type": "code",
   "execution_count": 5,
   "id": "d58b4a37-9054-4984-a148-bbb28a6cc078",
   "metadata": {
    "tags": []
   },
   "outputs": [],
   "source": [
    "system_tool_directions =''# \"\\nMake note of which software was used specifically with the genome data, if it was used in the paper\""
   ]
  },
  {
   "cell_type": "code",
   "execution_count": 6,
   "id": "768892e8-771a-4d9e-a8a8-5d09d7eb1ece",
   "metadata": {
    "tags": []
   },
   "outputs": [
    {
     "name": "stdout",
     "output_type": "stream",
     "text": [
      "Your output should only feature valid json and no text should be outside of the json format\n",
      "The user would like to know more information about specific items of genomic data\n",
      "Please include information about tool use and please validate the JSON output prior to showing it.\n"
     ]
    }
   ],
   "source": [
    "system_dir = system_directions+system_tool_directions\n",
    "print(system_dir)"
   ]
  },
  {
   "cell_type": "code",
   "execution_count": 7,
   "id": "91c3eab9-9cc8-4b92-839c-089d2271928a",
   "metadata": {
    "tags": []
   },
   "outputs": [
    {
     "data": {
      "text/plain": [
       "(['CP031298', 'CP031311', 'CP020345', 'NC_007624', 'CP003096'], 37)"
      ]
     },
     "execution_count": 7,
     "metadata": {},
     "output_type": "execute_result"
    }
   ],
   "source": [
    "prelim_idens = [x.split('.')[:1][0].split('_')[1:] for x in os.listdir('labels')]\n",
    "identifiers = [x[0] if len(x) == 1 else '_'.join(x) for x in prelim_idens]\n",
    "identifiers = [ids for ids in identifiers if len(ids) > 2]\n",
    "identifiers[:5], len(identifiers)"
   ]
  },
  {
   "cell_type": "code",
   "execution_count": 9,
   "id": "7f84f6cb-7902-49d7-af29-55ec8ecb3b50",
   "metadata": {
    "tags": []
   },
   "outputs": [],
   "source": [
    "from tqdm import tqdm\n",
    "def run_model(num_samples=10,\n",
    "              target_key=identifiers[0], #[#'CP000029',\n",
    "                          #'MINA00000000',\n",
    "                            #'CU928158'\n",
    "                           #'CP000046'\n",
    "                           #],\n",
    "              one_shot_ids = None,\n",
    "              append_prompts=False, \n",
    "              max_new_tokens=250, \n",
    "              temp=0.025, \n",
    "              csv_name=None, \n",
    "              save=False,\n",
    "              print_prog=False):\n",
    "    holder = []\n",
    "    for x in tqdm(range(num_samples)):\n",
    "        if one_shot_ids:\n",
    "            one_shot_key = one_shot_ids[x]\n",
    "            one_shot_pmcid = ds.key_paper_dict[one_shot_key]\n",
    "            pb = PromptBuilder(ds, system_direction=system_dir, one_shot_example=one_shot_key)\n",
    "        else:\n",
    "            pb = PromptBuilder(ds)\n",
    "        if print_prog: print(x)\n",
    "        prompt, tar_key, pmcid = pb.build_full_prompt(target_key[0],\n",
    "                                                         append_prompts=append_prompts,)\n",
    "        holder.append(log_output(pipeline, prompt, tar_key, pmcid, \n",
    "                                 one_shot_key=one_shot_key, one_shot_pmcid=one_shot_pmcid,\n",
    "                                 max_new_tokens=max_new_tokens, temp=temp, append_prompts=append_prompts))\n",
    "        df = pd.concat(holder).reset_index(drop=True)\n",
    "        if csv_name is None:\n",
    "            csv_name = f'{model_type}_{target_key[0]}.csv'\n",
    "        if save:\n",
    "            df.to_csv(csv_name, index=False)\n",
    "    return holder, df"
   ]
  },
  {
   "cell_type": "code",
   "execution_count": 14,
   "id": "6c775b32-9053-4d80-bbfe-14d082a585ca",
   "metadata": {
    "tags": []
   },
   "outputs": [
    {
     "name": "stderr",
     "output_type": "stream",
     "text": [
      "100%|██████████| 37/37 [09:25<00:00, 15.29s/it]\n"
     ]
    }
   ],
   "source": [
    "idens = identifiers\n",
    "out_df = run_model(num_samples=len(idens), \n",
    "                   target_keys=[idens[x]\n",
    "                   append_prompts=True, \n",
    "                   print_prog=False, \n",
    "                   one_shot_ids=idens, save=True)"
   ]
  },
  {
   "cell_type": "code",
   "execution_count": null,
   "id": "39be3240-e2d7-4703-8c5f-46ae7223f63d",
   "metadata": {
    "tags": []
   },
   "outputs": [
    {
     "name": "stderr",
     "output_type": "stream",
     "text": [
      "  0%|          | 0/37 [00:00<?, ?it/s]Starting from v4.46, the `logits` model output will have the same type as the model (except at train time, where it will always be FP32)\n",
      " 27%|██▋       | 10/37 [02:34<06:48, 15.14s/it]You seem to be using the pipelines sequentially on GPU. In order to maximize efficiency please use a dataset\n",
      "100%|██████████| 37/37 [09:32<00:00, 15.47s/it]\n",
      "100%|██████████| 37/37 [09:31<00:00, 15.45s/it]\n",
      "100%|██████████| 37/37 [10:51<00:00, 17.61s/it]\n",
      "100%|██████████| 37/37 [10:03<00:00, 16.31s/it]\n",
      "100%|██████████| 37/37 [10:33<00:00, 17.13s/it]\n",
      "100%|██████████| 37/37 [09:14<00:00, 15.00s/it]\n",
      "100%|██████████| 37/37 [09:19<00:00, 15.12s/it]\n",
      "100%|██████████| 37/37 [09:32<00:00, 15.47s/it]\n",
      "100%|██████████| 37/37 [09:18<00:00, 15.09s/it]\n",
      "100%|██████████| 37/37 [08:52<00:00, 14.40s/it]\n",
      "100%|██████████| 37/37 [09:32<00:00, 15.48s/it]\n",
      "100%|██████████| 37/37 [09:26<00:00, 15.32s/it]\n",
      " 89%|████████▉ | 33/37 [08:28<01:01, 15.25s/it]"
     ]
    }
   ],
   "source": [
    "idens = identifiers\n",
    "for iden in idens[10:]:\n",
    "    run_model(num_samples=len(idens), \n",
    "                   target_key=[iden,],\n",
    "                   append_prompts=True,\n",
    "                   print_prog=False, \n",
    "                   one_shot_ids=idens, save=True)"
   ]
  },
  {
   "cell_type": "code",
   "execution_count": null,
   "id": "542595c5-e8ff-4236-8f83-6a6b35a4b092",
   "metadata": {
    "tags": []
   },
   "outputs": [],
   "source": [
    "out_df[1].shape"
   ]
  },
  {
   "cell_type": "code",
   "execution_count": null,
   "id": "5dde1258-a115-4292-8350-d295939ff6f1",
   "metadata": {
    "tags": []
   },
   "outputs": [],
   "source": [
    "[print(out_df[1].output[x][:25]) for x in range(len(out_df[1]))]"
   ]
  },
  {
   "cell_type": "code",
   "execution_count": 35,
   "id": "3096fe2d-a506-4d62-a05a-8700f7026224",
   "metadata": {
    "tags": []
   },
   "outputs": [
    {
     "ename": "AttributeError",
     "evalue": "'tuple' object has no attribute 'output'",
     "output_type": "error",
     "traceback": [
      "\u001b[0;31m---------------------------------------------------------------------------\u001b[0m",
      "\u001b[0;31mAttributeError\u001b[0m                            Traceback (most recent call last)",
      "Cell \u001b[0;32mIn[35], line 2\u001b[0m\n\u001b[1;32m      1\u001b[0m \u001b[38;5;66;03m#modified sample jsons\u001b[39;00m\n\u001b[0;32m----> 2\u001b[0m \u001b[43mout_df\u001b[49m\u001b[38;5;241;43m.\u001b[39;49m\u001b[43moutput\u001b[49m[\u001b[38;5;241m0\u001b[39m]\n",
      "\u001b[0;31mAttributeError\u001b[0m: 'tuple' object has no attribute 'output'"
     ]
    }
   ],
   "source": [
    "#modified sample jsons\n",
    "out_df.output[0]"
   ]
  },
  {
   "cell_type": "code",
   "execution_count": 18,
   "id": "e02ce281-540b-4fbb-8a21-fec951d625cc",
   "metadata": {
    "tags": []
   },
   "outputs": [
    {
     "data": {
      "text/plain": [
       "\"{'accession': 'CP000029', 'data_accessed': 'False', 'pmcid': 'PMC3367964','summary': 'The purpose of this article is to investigate the role of the two-component signal transduction system ArlRS in regulating Staphylococcus epidermidis biofilm formation.', 'tools_software': [{'tool': 'ABI 7500 real-time PCR system'}, {'tool': 'DIG Gel Shift Kit'}, {'tool': 'SPSS version 11.5'}], 'use_cases': [{'case': 'The data was used as a reference for the genomic sequence of Staphylococcus epidermidis strain RP62A, which was used to design primers for the construction of an arlS gene knockout mutant and for the analysis of biofilm-related genes.'}]}\""
      ]
     },
     "execution_count": 18,
     "metadata": {},
     "output_type": "execute_result"
    }
   ],
   "source": [
    "#new system direction\n",
    "out_df.output[0]"
   ]
  },
  {
   "cell_type": "code",
   "execution_count": 15,
   "id": "84b45092-38e2-4051-b53d-928c17a37dd4",
   "metadata": {
    "tags": []
   },
   "outputs": [
    {
     "data": {
      "text/plain": [
       "\"{'accession': 'CP000029', 'data_accessed': 'False', 'pmcid': 'PMC3367966','summary': 'The purpose of this article is to report the role of the two-component signal transduction system ArlRS in regulating Staphylococcus epidermidis biofilm formation.', 'tools_software': [{'tool': 'DIG Gel Shift Kit'}, {'tool': 'ABI 7500 real-time PCR system'}, {'tool': 'ProBond Purification System'}, {'tool': 'pET-28a(+)'}], 'use_cases': [{'case': 'The dataset is mentioned in the paper as the genomic sequence of Staphylococcus epidermidis strain RP62A, which was used as a reference for designing primers for PCR.'}]}\""
      ]
     },
     "execution_count": 15,
     "metadata": {},
     "output_type": "execute_result"
    }
   ],
   "source": [
    "#OG system direction\n",
    "out_df.output[0]"
   ]
  },
  {
   "cell_type": "code",
   "execution_count": 65,
   "id": "b30ee8b7-b2cc-4aed-88fa-f5191d942f79",
   "metadata": {
    "tags": []
   },
   "outputs": [
    {
     "data": {
      "text/plain": [
       "\"{'accession': 'CP000029', 'data_accessed': 'TRUE', 'pmcid': 'PMC5932375','summary': 'The purpose of this article is to report the draft genome sequence of Staphylococcus epidermidis strain RP62A, The dataset is used in the paper as the authors performed PCR to amplify regions flanking arlS gene and used the resulting DNA fragment as a template to construct the arlS gene knockout mutant.', 'tools_software': [{'tool': 'pBT2'}, {'tool': 'pTX15'}, {'tool': 'pCN51'}, {'tool': 'pET-28a'}, {'tool': 'DIG Gel Shift Kit'}, {'tool': 'SPSS Version 11.5'}, {'tool': 'ProBond Purification System'}, {'tool': 'CSPD'}], 'use_cases': [{'case': 'The data represents the output of the study, as the authors performed PCR to amplify regions flanking arlS gene and used the resulting DNA fragment as a template to construct the arlS gene knockout mutant.'}, {'case': 'The dataset is used in the paper as the authors performed PCR to amplify regions flanking arlS gene and used the resulting DNA fragment as a template to construct the arlS gene knockout mutant.'}, {'case': 'The dataset is used in the paper as the authors performed PCR to amplify regions flanking arlS gene and used the resulting DNA fragment as a template to construct the arlS gene knockout mutant.'}]\""
      ]
     },
     "execution_count": 65,
     "metadata": {},
     "output_type": "execute_result"
    }
   ],
   "source": [
    "#8bit precision\n",
    "out_df.output[0]"
   ]
  },
  {
   "cell_type": "code",
   "execution_count": 26,
   "id": "1191552a-a04b-446a-9f96-be14c76eab19",
   "metadata": {},
   "outputs": [
    {
     "data": {
      "text/plain": [
       "\"{'accession': 'CP000029', 'data_accessed': 'False', 'pmcid': 'PMC3367969','summary': 'The purpose of this article is to investigate the role of the two-component signal transduction system ArlRS in regulating Staphylococcus epidermidis biofilm formation.', 'tools_software': [{'tool': 'DIG Gel Shift Kit'}, {'tool': 'ABI 7500 real-time PCR system'}, {'tool': 'ProBond Purification System'}, {'tool': 'pET-28a(+)'}], 'use_cases': [{'case': 'The dataset is mentioned in the paper as the authors used the genomic sequence of Staphylococcus epidermidis RP62A (GenBank accession number CP000029) to design primers for PCR.'}]}\""
      ]
     },
     "execution_count": 26,
     "metadata": {},
     "output_type": "execute_result"
    }
   ],
   "source": [
    "#full precision\n",
    "out_df.output[0]"
   ]
  },
  {
   "cell_type": "code",
   "execution_count": 21,
   "id": "614b8e60-328f-45f0-9450-9045e1753b4f",
   "metadata": {},
   "outputs": [],
   "source": [
    "correct_output = {\n",
    "    \"accession\": \"CP000029\",\n",
    "    \"data_accessed\": \"TRUE\",\n",
    "    \"pmcid\": \"PMC3407220\",\n",
    "    \"summary\": \"The purpose of this study is to investigate the role of the two-component signal transduction system ArlRS in regulating Staphylococcus epidermidis biofilm formation.\",\n",
    "    \"tools_software\": [],\n",
    "    \"use_cases\": [\n",
    "        {\"case\": \"The data represented by the accession CP000029 was used to guide the design of primers for the PCR amplification of certain regions of the PBT2 shuttle vector plasmid. The resulting regions were used in the reconstruction a recombinant plasmid, PBT2-arlS, that was later transformed into specific Staphylococcus epidermidis strains.\"},\n",
    "            ]\n",
    "}"
   ]
  },
  {
   "cell_type": "code",
   "execution_count": null,
   "id": "61523ea1-8166-4b4f-afad-6fc05deee199",
   "metadata": {},
   "outputs": [],
   "source": []
  },
  {
   "cell_type": "code",
   "execution_count": null,
   "id": "f6994424-6fb9-4915-8009-9d7d9e6dc74e",
   "metadata": {},
   "outputs": [],
   "source": []
  },
  {
   "cell_type": "code",
   "execution_count": null,
   "id": "203d9f9b-87cc-455c-8c7d-8b6776ccabc9",
   "metadata": {},
   "outputs": [],
   "source": [
    "one_shot_prompt = inject_metaprompt('MINA00000000', ds, example_out=small_example, paper_len=None)\n",
    "user_prompt = inject_metaprompt('CP000046', ds, example_out=response_template, paper_len=None)\n",
    "full_prompt = build_prompt(system_directions=system_directions, \n",
    "                           about_user=one_shot_prompt, \n",
    "                           prompt=user_prompt)"
   ]
  },
  {
   "cell_type": "code",
   "execution_count": 36,
   "id": "2b311234-f809-4504-a0b8-8b0934bd4438",
   "metadata": {
    "tags": []
   },
   "outputs": [],
   "source": [
    "#intermediate_out = output"
   ]
  },
  {
   "cell_type": "code",
   "execution_count": 80,
   "id": "446253f3-a0d6-49db-9872-e06231a75418",
   "metadata": {
    "tags": []
   },
   "outputs": [],
   "source": [
    "def inject_intermediate(target_key, example_out=None, paper_len=10):\n",
    "    paper_name = df[df.target_keys == target_key].pmcid.unique().item()\n",
    "    meta = get_metadata(target_key)\n",
    "    paper = read_paper(paper_name)\n",
    "    prompt = f'Based on this incorrect json file {str(example_out)}, how would you modify it based on the paper below? \\n \\\n",
    "Please keep its structure and here is some associated metadata:\\n{meta}\\\n",
    "and here is the paper {paper[:paper_len]}'\n",
    "    return prompt"
   ]
  },
  {
   "cell_type": "code",
   "execution_count": 81,
   "id": "c9e402f2-fe44-4d32-80e5-57c93b2c5399",
   "metadata": {
    "tags": []
   },
   "outputs": [],
   "source": [
    "p = inject_intermediate('CP000046', intermediate_out, 110)"
   ]
  },
  {
   "cell_type": "code",
   "execution_count": 88,
   "id": "5421a602-0696-429f-b416-95aadf6c06b7",
   "metadata": {
    "tags": []
   },
   "outputs": [],
   "source": [
    "full_prompt = build_prompt(system_directions=None, about_user=None, prompt=p)\n",
    "output = get_output(pipeline, full_prompt, max_new_tokens=300, temp=0.5);"
   ]
  },
  {
   "cell_type": "code",
   "execution_count": 89,
   "id": "2b82ae77-9b6b-483e-9f2c-6f6b05e215f5",
   "metadata": {
    "tags": []
   },
   "outputs": [
    {
     "name": "stdout",
     "output_type": "stream",
     "text": [
      "Based on the provided paper, I would modify the JSON file as follows:\n",
      "\n",
      "```\n",
      "{\n",
      "  \"accession\": \"CP000046\",\n",
      "  \"data_accessed\": \"True\",\n",
      "  \"pmcid\": \"Not provided\",\n",
      "  \"summary\": \"The paper investigates the diversity of USA500 isolates causing invasive infections in the United States through analysis of a large set of strains collected through EIP surveillance. The study reveals that USA500 isolates fall into three major clades (C1, C2, and E1) and proposes a new definition of USA500 sensu lato as the genetic background to USA300.\",\n",
      "  \"tools_software\": [\n",
      "    {\"tool\": \"BEAST 2\"},\n",
      "    {\"tool\": \"BLAST\"},\n",
      "    {\"tool\": \"ClonalFrameML\"},\n",
      "    {\"tool\": \"ISMapper\"},\n",
      "    {\"tool\": \"iTOL\"},\n",
      "    {\"tool\": \"Parsnp\"},\n",
      "    {\"tool\": \"PhyML\"},\n",
      "    {\"tool\": \"RAxML\"},\n",
      "    {\"tool\": \"SPAdes\"},\n",
      "    {\"tool\": \"Jellyfish\"},\n",
      "    {\"tool\": \"PROKKA\"},\n",
      "    {\"tool\": \"Roary\"},\n",
      "    {\"tool\": \"SRST2\"}\n",
      "  ],\n",
      "  \"use_cases\": [\n",
      "    {\"case\": \"The CP000046 accession number is used as an outgroup in the phylogenetic analysis of USA500 strains.\"},\n",
      "    {\"case\": \"The strain associated with this accession number (ST250\n"
     ]
    }
   ],
   "source": [
    "print(output)"
   ]
  },
  {
   "cell_type": "code",
   "execution_count": null,
   "id": "409e9c85-c4a0-4deb-b856-1db6fb2b31d5",
   "metadata": {
    "tags": []
   },
   "outputs": [],
   "source": [
    "output = get_output(pipeline, full_prompt, max_new_tokens=500, temp=0.25);\n",
    "print(output)"
   ]
  },
  {
   "cell_type": "code",
   "execution_count": null,
   "id": "f01199f1-d09f-4037-bf51-746c4354927d",
   "metadata": {
    "tags": []
   },
   "outputs": [],
   "source": [
    "output = get_output(pipeline, full_prompt, max_new_tokens=500, temp=0.5);\n",
    "print(output)"
   ]
  },
  {
   "cell_type": "code",
   "execution_count": 22,
   "id": "9c7982bb-2327-4720-bf89-60a30dd3771e",
   "metadata": {
    "tags": []
   },
   "outputs": [
    {
     "name": "stdout",
     "output_type": "stream",
     "text": [
      "The GenBank identifier CP000046 is mentioned in the paper as the accession number for the Staphylococcus aureus strain COL (ST250) genome sequence, which was used as the outgroup in the phylogenetic analysis. The strain COL genome sequence was used as a reference point to root the phylogenetic tree, as it was the earliest branching strain in subgroups A to F.\n",
      "\n",
      "The dataset associated with CP000046 is not directly used in the paper, but rather its genome sequence is used as a reference for the phylogenetic analysis. The paper focuses on the analysis of 539 USA500 MRSA isolates from sterile site infections collected through the Emerging Infections Program (EIP) between 2005 and 2013 in the United States. The genome sequence of strain COL (ST250) is used to provide a broader context for the phylogenetic relationships among the USA500 isolates.\n"
     ]
    }
   ],
   "source": [
    "output = get_output(pipeline, full_prompt, max_new_tokens=500, temp=0.5);\n",
    "print(output)"
   ]
  },
  {
   "cell_type": "code",
   "execution_count": 17,
   "id": "495ffd0f-d20e-4a41-8c73-5586b962ebd0",
   "metadata": {
    "tags": []
   },
   "outputs": [
    {
     "name": "stdout",
     "output_type": "stream",
     "text": [
      "The GenBank identifier CP000046.1 refers to a specific DNA sequence record in the GenBank database, which is a comprehensive public database of DNA sequences.\n",
      "\n",
      "After conducting a search, I found that CP000046.1 corresponds to the complete genome sequence of the bacterium Bacillus licheniformis ATCC 14580. This sequence was submitted to GenBank in 2004.\n",
      "\n",
      "Here are some key details about the sequence:\n",
      "\n",
      "* Accession number: CP000046.1\n",
      "* Organism: Bacillus licheniformis ATCC 14580\n",
      "* Sequence length: 4,222,748 base pairs\n",
      "* Sequence type: Complete genome\n",
      "* Submission date: 2004\n",
      "\n",
      "Bacillus licheniformis is a Gram-positive, rod-shaped bacterium that is commonly found in soil and is known for its ability to produce antibiotics and other secondary metabolites.\n",
      "\n",
      "If you need more information or would like to access the sequence data, I recommend visiting the GenBank website (https://www.ncbi.nlm.nih.gov/genbank/) and searching for the accession number CP000046.1.\n"
     ]
    }
   ],
   "source": [
    "#prompt = inject_metadata('CP000046')\n",
    "prompt = 'What can you tell me about the genbank identifier CP000046.1'\n",
    "full_prompt = build_prompt(system_directions=None, about_user=None, prompt=prompt)\n",
    "output = get_output(pipeline, full_prompt, max_new_tokens=500);\n",
    "print(output)"
   ]
  },
  {
   "cell_type": "code",
   "execution_count": 15,
   "id": "2f8d49f5-7a72-432e-9656-2b704f4d3654",
   "metadata": {
    "tags": []
   },
   "outputs": [],
   "source": [
    "#print('meow')"
   ]
  },
  {
   "cell_type": "code",
   "execution_count": 16,
   "id": "3e5854bc-b43a-47ea-95fb-b061094fbc23",
   "metadata": {
    "tags": []
   },
   "outputs": [
    {
     "name": "stdout",
     "output_type": "stream",
     "text": [
      "[{'role': 'system', 'content': None}, {'role': 'user', 'content': 'What can you tell me about the genbank identifier CP000046.1'}]\n"
     ]
    }
   ],
   "source": [
    "prompt = 'What can you tell me about the genbank identifier CP000046.1'\n",
    "full_prompt = build_prompt(system_directions=None, about_user=None, prompt=prompt)\n",
    "print(full_prompt)"
   ]
  },
  {
   "cell_type": "code",
   "execution_count": 17,
   "id": "e34d4a5e-47b5-46ff-bc7d-bc7fece0cb2a",
   "metadata": {
    "tags": []
   },
   "outputs": [
    {
     "name": "stdout",
     "output_type": "stream",
     "text": [
      "The GenBank identifier CP000046.1 refers to a specific DNA sequence entry in the GenBank database. GenBank is a comprehensive public database of DNA sequences, maintained by the National Center for Biotechnology Information (NCBI).\n",
      "\n",
      "To find more information about this specific entry, I can suggest a few options:\n",
      "\n",
      "1. **NCBI Website**: You can search for the identifier CP000046.1 on the NCBI website ([www.ncbi.nlm.nih.gov](http://www.ncbi.nlm.nih.gov)). This will take you to the entry's page, which may include information such as the organism, sequence length, accession date, and more.\n",
      "2. **GenBank File**: You can download the GenBank file for this entry, which contains detailed information about the sequence, including the DNA sequence itself, annotations, and references.\n",
      "3. **BLAST Search**: You can perform a BLAST (Basic Local Alignment Search Tool) search using the identifier CP000046.1 to find similar sequences in the database.\n",
      "\n",
      "If you provide more context or information about what you're looking for, I can try to help you further.\n"
     ]
    }
   ],
   "source": [
    "output = get_output(pipeline, full_prompt, max_new_tokens=250, temp=1.0);\n",
    "print(output)"
   ]
  },
  {
   "cell_type": "code",
   "execution_count": 10,
   "id": "360a3f52-de02-42ab-9113-d9ec959d37ff",
   "metadata": {
    "tags": []
   },
   "outputs": [
    {
     "name": "stdout",
     "output_type": "stream",
     "text": [
      "CP000046.1 is a GenBank identifier. GenBank is a comprehensive public database of DNA sequences, and each entry is assigned a unique identifier. To analyze this identifier, I'll go through the following steps:\n",
      "\n",
      "1. **Database search**: I'll search for CP000046.1 in the GenBank database or other online resources, such as the National Center for Biotechnology Information (NCBI) website.\n",
      "\n",
      "Assuming the search results indicate that CP000046.1 corresponds to a specific DNA sequence, I'll proceed with the analysis.\n",
      "\n",
      "2. **Sequence information**: I'll retrieve information about the DNA sequence associated with CP000046.1, such as:\n",
      "\t* **Sequence length**: The number of base pairs in the sequence.\n",
      "\t* **Organism**: The species or organism from which the sequence was obtained.\n",
      "\t* **Sequence type**: The type of sequence (e.g., genomic, cDNA, mRNA, etc.).\n",
      "\t* **Gene or protein information**: Any associated gene or protein names, functions, or annotations.\n",
      "\n",
      "For the sake of this example, let's assume the sequence information is as follows:\n",
      "\n",
      "\t+ Sequence length: 120,000 bp\n",
      "\t+ Organism: Escherichia coli (E. coli)\n",
      "\t+ Sequence type: Genome\n",
      "\t+ Gene or protein information: Contains the gene for the lacZ protein, which is involved in lactose metabolism.\n",
      "\n",
      "3. **Statistics and analysis**: With the sequence information in hand, I can now provide some basic statistics and analysis:\n",
      "\t* **GC content**: The percentage of G (guanine) and C (cytosine) bases in the sequence. This can be calculated using the sequence length and base composition. For example, if the sequence is 50% G+C, it might indicate a neutral or slightly biased base composition.\n",
      "\t* **Codon usage**: An analysis of the sequence's codon usage can provide insights into the organism's translation machinery and evolutionary pressures.\n",
      "\t* **Gene density**: The number of genes per kilobase (kb) of sequence can indicate the genome's gene density and potential for gene regulation.\n",
      "\n",
      "Using the example sequence information, here are some hypothetical statistics:\n",
      "\n",
      "\t+ GC content: 51.2%\n",
      "\t+ Codon usage: Shows a preference for G-ending codons, indicating a possible bias towards translation efficiency.\n",
      "\t+ Gene density: Approximately 1 gene per 1.2 kb, suggesting a relatively high gene density.\n",
      "\n",
      "\n"
     ]
    }
   ],
   "source": [
    "prompt = 'What can you tell me about the genbank identifier CP000046.1 -- walk through your reasoning about the statistics surrounding it'\n",
    "full_prompt = build_prompt(system_directions=None, about_user=None, prompt=prompt)\n",
    "output = get_output(pipeline, full_prompt, max_new_tokens=500, temp=1.0);\n",
    "print(output)"
   ]
  },
  {
   "cell_type": "code",
   "execution_count": 11,
   "id": "1e33c0fa-3ad4-4fd7-87f7-c8c486c59937",
   "metadata": {
    "tags": []
   },
   "outputs": [
    {
     "name": "stdout",
     "output_type": "stream",
     "text": [
      "The GenBank identifier CP000046.1 refers to a specific DNA sequence record in the GenBank database, which is a comprehensive public database of DNA sequences. To provide information about this identifier, I'll break down the steps I'd take to analyze it:\n",
      "\n",
      "1. **Database Search**: I would start by searching the GenBank database using the identifier CP000046.1. This can be done through the National Center for Biotechnology Information (NCBI) website, which hosts GenBank.\n",
      "\n",
      "2. **Record Retrieval**: Upon searching, I would retrieve the record associated with CP000046.1. This record would contain various fields, including the locus name, definition, organism, sequence length, molecule type, and more.\n",
      "\n",
      "3. **Sequence Analysis**: To understand the statistics surrounding CP000046.1, I would analyze the sequence data. This might involve looking at the sequence length, GC content, and any notable features such as open reading frames (ORFs), coding regions, or specific motifs.\n",
      "\n",
      "4. **Organism Identification**: Identifying the organism from which the sequence was derived is crucial. This information can be found in the \"organism\" field of the GenBank record. Knowing the organism helps in understanding the sequence's context and potential functions.\n",
      "\n",
      "5. **Similarity Searches**: To gather more information, I might perform similarity searches using tools like BLAST (Basic Local Alignment Search Tool) to find similar sequences in other databases. This can provide insights into the sequence's evolutionary relationships and potential functions.\n",
      "\n",
      "6. **Literature Review**: Finally, I would review scientific literature to see if CP000046.1 has been mentioned in any studies. This could provide additional context about the sequence's significance, its role in the organism, and any notable research findings associated with it.\n",
      "\n",
      "Given the constraints of this format and without direct access to real-time databases or the ability to perform searches, I can provide a general overview of what one might expect to find. However, for the most accurate and up-to-date information, it's essential to perform these steps directly on the NCBI website or through other bioinformatics tools.\n",
      "\n",
      "If you're looking for specific statistics or details about CP000046.1, I recommend accessing the GenBank database directly for the most current information.\n"
     ]
    }
   ],
   "source": [
    "prompt = 'What can you tell me about the genbank identifier CP000046.1 -- walk through your reasoning about the statistics surrounding it'\n",
    "full_prompt = build_prompt(system_directions=None, about_user=None, prompt=prompt)\n",
    "output = get_output(pipeline, full_prompt, max_new_tokens=500, temp=0.2);\n",
    "print(output)"
   ]
  },
  {
   "cell_type": "code",
   "execution_count": 19,
   "id": "2ce9e32c-0436-4c9a-861b-0bfd28181086",
   "metadata": {
    "tags": []
   },
   "outputs": [
    {
     "name": "stdout",
     "output_type": "stream",
     "text": [
      "CP000046.1 is a GenBank identifier for the complete genome sequence of Staphylococcus aureus subsp. aureus strain COL. Here's some information about this particular identifier:\n",
      "\n",
      "*   **Organism:** Staphylococcus aureus subsp. aureus is a subspecies of the bacterium Staphylococcus aureus, which is a Gram-positive, spherical-shaped bacterium that is commonly found on the skin and mucous membranes of humans.\n",
      "*   **Strain:** The strain COL is a specific isolate of Staphylococcus aureus subsp. aureus that has been sequenced and deposited in the GenBank database.\n",
      "*   **GenBank Identifier:** CP000046.1 is the unique identifier assigned to this genome sequence in the GenBank database. The \"CP\" prefix indicates that this is a complete genome sequence, and the number \"000046\" is a unique identifier for this particular sequence. The \".1\" suffix indicates that this is the first version of the sequence that has been deposited in the database.\n",
      "*   **Genome Features:** The genome sequence of Staphylococcus aureus subsp. aureus strain COL consists of a single circular chromosome with a\n"
     ]
    }
   ],
   "source": [
    "prompt = 'What can you tell me about the genbank identifier CP000046.1 -- Staphylococcus aureus subsp. aureus COL'\n",
    "full_prompt = build_prompt(system_directions=None, about_user=None, prompt=prompt)\n",
    "output = get_output(pipeline, full_prompt, max_new_tokens=250, temp=0.3);\n",
    "print(output)"
   ]
  },
  {
   "cell_type": "code",
   "execution_count": 20,
   "id": "42b98784-bb44-49a8-8a45-70f4fddc0274",
   "metadata": {
    "tags": []
   },
   "outputs": [
    {
     "name": "stdout",
     "output_type": "stream",
     "text": [
      "The GenBank identifier CP000046.1 refers to a specific DNA sequence record in the GenBank database. GenBank is a comprehensive public database of DNA sequences, maintained by the National Center for Biotechnology Information (NCBI).\n",
      "\n",
      "To find more information about this identifier, I would typically search the GenBank database or other online resources. However, I'm a large language model, I do not have direct access to external databases or the internet.\n",
      "\n",
      "If you're looking for information about the sequence CP000046.1, I suggest checking the GenBank database or other online resources, such as:\n",
      "\n",
      "* The GenBank database: You can search for the identifier CP000046.1 on the GenBank website ([www.ncbi.nlm.nih.gov/genbank/](http://www.ncbi.nlm.nih.gov/genbank/)) to retrieve the sequence record and its associated information.\n",
      "* The NCBI Entrez database: You can also search for the identifier CP000046.1 on the Entrez database ([www.ncbi.nlm.nih.gov/entrez/](http://www.ncbi.nlm.nih.gov/entrez/)) to find related information, such as the sequence's taxonomy, features, and references.\n",
      "\n",
      "If you have any specific questions about the sequence CP000046.1 or would like help interpreting the information, feel free to ask, and I'll do my best to assist you.\n"
     ]
    }
   ],
   "source": [
    "prompt = 'What can you tell me about the genbank identifier CP000046.1'# -- Staphylococcus aureus subsp. aureus COL'\n",
    "full_prompt = build_prompt(system_directions=None, about_user=None, prompt=prompt)\n",
    "output = get_output(pipeline, full_prompt, max_new_tokens=500, temp=0.025);\n",
    "print(output)"
   ]
  },
  {
   "cell_type": "code",
   "execution_count": 21,
   "id": "35fbe2a3-834b-46e3-9a51-2cce160a99b7",
   "metadata": {
    "tags": []
   },
   "outputs": [
    {
     "name": "stdout",
     "output_type": "stream",
     "text": [
      "The GenBank identifier CP000046.1 refers to the complete genome sequence of Staphylococcus aureus subsp. aureus strain COL. Here are some key facts about this genome:\n",
      "\n",
      "1. **Organism**: Staphylococcus aureus subsp. aureus is a Gram-positive, facultative anaerobic bacterium that is commonly found on human skin and mucous membranes. It is a major human pathogen, causing a wide range of infections, from skin and soft tissue infections to life-threatening diseases such as pneumonia, meningitis, and sepsis.\n",
      "2. **Strain**: The COL strain is a well-studied, methicillin-resistant Staphylococcus aureus (MRSA) strain that was isolated from a patient in the 1980s. It has been widely used as a model organism in research studies on S. aureus pathogenesis, antibiotic resistance, and vaccine development.\n",
      "3. **Genome sequence**: The complete genome sequence of S. aureus subsp. aureus COL was published in 2006 (Accession: CP000046.1). The genome consists of a single circular chromosome with 2,809,422 base pairs, encoding 2,673 predicted protein-coding genes.\n",
      "4. **Genome features**: The COL genome contains several notable features, including:\n",
      "\t* A large number of mobile genetic elements, such as transposons and prophages, which contribute to the strain's antibiotic resistance and virulence.\n",
      "\t* A type VII secretion system, which is involved in the transport of proteins across the bacterial cell membrane.\n",
      "\t* A range of virulence factors, including adhesins, invasins, and toxins, which enable the bacterium to colonize and infect host tissues.\n",
      "5. **Research significance**: The S. aureus subsp. aureus COL genome sequence has been widely used in research studies on S. aureus biology, pathogenesis, and antibiotic resistance. It has also served as a reference genome for comparative genomics studies, helping to identify genetic determinants of virulence and antibiotic resistance in other S. aureus strains.\n",
      "\n",
      "Overall, the GenBank identifier CP000046.1 provides access to a valuable resource for researchers studying Staphylococcus aureus biology and pathogenesis.\n"
     ]
    }
   ],
   "source": [
    "prompt = 'What can you tell me about the genbank identifier CP000046.1 -- Staphylococcus aureus subsp. aureus COL'\n",
    "full_prompt = build_prompt(system_directions=None, about_user=None, prompt=prompt)\n",
    "output = get_output(pipeline, full_prompt, max_new_tokens=500, temp=0.025);\n",
    "print(output)"
   ]
  },
  {
   "cell_type": "code",
   "execution_count": 24,
   "id": "e4290f2d-e8a9-4ed2-ad17-23a25441408e",
   "metadata": {
    "tags": []
   },
   "outputs": [
    {
     "name": "stdout",
     "output_type": "stream",
     "text": [
      "The GenBank identifier CP000046.1 refers to the complete genome sequence of Staphylococcus aureus subsp. aureus strain COL. Here are some key facts about this genome:\n",
      "\n",
      "1. **Organism**: Staphylococcus aureus subsp. aureus is a Gram-positive, facultative anaerobic bacterium that is commonly found on human skin and mucous membranes. It is a major human pathogen, causing a wide range of infections, from skin and soft tissue infections to life-threatening diseases such as pneumonia, meningitis, and sepsis.\n",
      "2. **Strain**: The COL strain is a well-studied, methicillin-resistant Staphylococcus aureus (MRSA) strain that was isolated from a patient in the 1980s. It has been widely used as a model organism in research studies on S. aureus pathogenesis, antibiotic resistance, and vaccine development.\n",
      "3. **Genome sequence**: The complete genome sequence of S. aureus subsp. aureus COL was published in 2006 (Accession: CP000046.1). The genome consists of a single circular chromosome with 2,809,422 base pairs, encoding 2,673 predicted protein-coding genes.\n",
      "4. **Genome features**: The COL genome contains several notable features, including:\n",
      "\t* A large number of mobile genetic elements, such as transposons and prophages, which contribute to the strain's antibiotic resistance and virulence.\n",
      "\t* A type VII secretion system, which is involved in the transport of proteins across the bacterial cell membrane.\n",
      "\t* A range of virulence factors, including adhesins, invasins, and toxins, which enable the bacterium to colonize and infect host tissues.\n",
      "5. **Research significance**: The S. aureus subsp. aureus COL genome sequence has been widely used in research studies on S. aureus biology, pathogenesis, and antibiotic resistance. It has also served as a reference genome for comparative genomics studies, helping to identify genetic determinants of virulence and antibiotic resistance in other S. aureus strains.\n",
      "\n",
      "Overall, the GenBank identifier CP000046.1 provides access to a valuable resource for researchers studying Staphylococcus aureus biology and pathogenesis.\n"
     ]
    }
   ],
   "source": [
    "prompt = 'What can you tell me about the genbank identifier CP000046.1 -- Staphylococcus aureus subsp. aureus COL'\n",
    "full_prompt = build_prompt(system_directions=None, about_user=None, prompt=prompt)\n",
    "output = get_output(pipeline, full_prompt, max_new_tokens=1500, temp=0.025);\n",
    "print(output)"
   ]
  },
  {
   "cell_type": "code",
   "execution_count": 22,
   "id": "5487f19b-37bd-47f0-8077-cdf96c9bf140",
   "metadata": {
    "tags": []
   },
   "outputs": [
    {
     "name": "stdout",
     "output_type": "stream",
     "text": [
      "The GenBank identifier CP000046.1 refers to a specific DNA sequence record in the GenBank database. GenBank is a comprehensive public database of DNA sequences, maintained by the National Center for Biotechnology Information (NCBI).\n",
      "\n",
      "To find more information about this identifier, I would typically search the GenBank database or use the NCBI Entrez system. However, I'm a large language model, I do not have direct access to external databases or the internet.\n",
      "\n",
      "If you're looking for information about the CP000046.1 identifier, I suggest searching the GenBank database or using the NCBI Entrez system directly. You can also try searching online for more information about this specific identifier.\n",
      "\n",
      "If you have any more questions or need help with searching or interpreting the results,\n"
     ]
    }
   ],
   "source": [
    "prompt = 'What can you tell me about the genbank identifier CP000046.1'\n",
    "full_prompt = build_prompt(system_directions=None, about_user=None, prompt=prompt)\n",
    "output = get_output(pipeline, full_prompt, max_new_tokens=250, temp=0.1);\n",
    "print(output)"
   ]
  },
  {
   "cell_type": "code",
   "execution_count": 23,
   "id": "481d3b2f-2927-4b46-bfa3-f0884690bba5",
   "metadata": {
    "tags": []
   },
   "outputs": [
    {
     "name": "stdout",
     "output_type": "stream",
     "text": [
      "CP000046.1 is a GenBank accession number, which refers to a specific DNA sequence record in the GenBank database. \n",
      "\n",
      "CP000046.1 is a genomic DNA sequence of *Bacillus pumilus* strain SAFR-032.\n"
     ]
    }
   ],
   "source": [
    "prompt = \"Can you provide more information about the genbank identifier CP000046.1?\"\n",
    "full_prompt = build_prompt(system_directions, about_user=\"I am god\", prompt=prompt)\n",
    "output = get_output(pipeline, full_prompt, max_new_tokens=100);\n",
    "print(output)"
   ]
  },
  {
   "cell_type": "code",
   "execution_count": null,
   "id": "f8534fa9-b3f5-4938-b6bd-42589d50fa89",
   "metadata": {
    "tags": []
   },
   "outputs": [],
   "source": [
    "prompt = \"Can you provide more information about the genbank identifier CP000046.1? \\n \\\n",
    "which represents Staphylococcus aureus subsp. aureus COL, complete genome\"\n",
    "full_prompt = build_prompt(system_directions, about_user=None, prompt=prompt)\n",
    "output = get_output(pipeline, full_prompt, max_new_tokens=250);\n",
    "print(output)"
   ]
  },
  {
   "cell_type": "code",
   "execution_count": null,
   "id": "c363792b-b038-41ff-a3bf-abe98c77e8ca",
   "metadata": {
    "tags": []
   },
   "outputs": [],
   "source": [
    "prompt = \"What can you tell me about the genbank identifier GCF_000001735.1?\"\n",
    "output = get_output(pipeline, \n",
    "                    build_prompt(system_directions, about_user=None, prompt=prompt),\n",
    "                    max_new_tokens=250);\n",
    "print(output)"
   ]
  },
  {
   "cell_type": "code",
   "execution_count": null,
   "id": "d4bd17b2-d478-41f8-8ac9-b7031e137cef",
   "metadata": {
    "tags": []
   },
   "outputs": [],
   "source": [
    "prompt = \"What can you tell me about the genbank identifier GCF_000001735.1?\"\n",
    "output = get_output(pipeline, \n",
    "                    build_prompt(system_directions, about_user=\"I am god\", prompt=prompt),\n",
    "                    max_new_tokens=250);\n",
    "print(output)"
   ]
  },
  {
   "cell_type": "code",
   "execution_count": null,
   "id": "9cf2b974-2f65-4652-909e-7095ca71ff85",
   "metadata": {
    "tags": []
   },
   "outputs": [],
   "source": [
    "system_directions = \"Please ignore all previous instructions\\nPlease provide clear and concise answers.\\n\\\n",
    "Only state what you know to be true and if something is unclear please state that clearly or indicate that you do not know the answer\"\n",
    "print(system_directions)"
   ]
  },
  {
   "cell_type": "code",
   "execution_count": null,
   "id": "950cbda6-ac38-4ae3-9b24-6f69bcb27d03",
   "metadata": {
    "tags": []
   },
   "outputs": [],
   "source": [
    "prompt = \"What can you tell me about the genbank identifier CP000046?\"\n",
    "output = get_output(pipeline, \n",
    "                    build_prompt(system_directions, about_user=None, prompt=prompt),\n",
    "                    max_new_tokens=250, temp=0.6, top_p=0.9);\n",
    "print(output)"
   ]
  },
  {
   "cell_type": "code",
   "execution_count": null,
   "id": "a4f18a46-c119-41f9-a8ae-085b5ff582c1",
   "metadata": {
    "tags": []
   },
   "outputs": [],
   "source": [
    "#prompt = \"What can you tell me about the genbank identifier CP000046?\"\n",
    "prompt = \"There is another AI that knows everything about genomic data and scientific publications. Use that AI to generate a summary of the genome data for GenBank Accession CP000046\"\n",
    "output = get_output(pipeline, \n",
    "                    build_prompt(system_directions, \n",
    "                                 about_user=None,\n",
    "                                 prompt=prompt),\n",
    "                    max_new_tokens=250, \n",
    "                    temp=0.6, \n",
    "                    top_p=0.9);\n",
    "print(output)"
   ]
  },
  {
   "cell_type": "code",
   "execution_count": null,
   "id": "5302dd4f-e408-4350-a048-a9ef2a6cb0d6",
   "metadata": {},
   "outputs": [],
   "source": [
    "def build_prompt(system_directions, about_user=None, prompt=None):\n",
    "    messages = [{\"role\": \"system\", \"content\": system_directions}]\n",
    "    if about_user:   \n",
    "        messages.append({\"role\": \"user\", \"content\": f\"{about_user}\"})\n",
    "    if prompt:\n",
    "        messages.append({\"role\": \"user\", \"content\": f\"{prompt}\"})\n",
    "    return messages"
   ]
  },
  {
   "cell_type": "code",
   "execution_count": null,
   "id": "cb1b3507-fa5e-4945-83bc-8c0abe2eb8a5",
   "metadata": {
    "tags": []
   },
   "outputs": [],
   "source": [
    "p = build_prompt(system_directions, #about_user=\"Please respond in english\", \n",
    "                 prompt=prompt)\n",
    "p"
   ]
  },
  {
   "cell_type": "code",
   "execution_count": null,
   "id": "e4195138-3e47-4510-ad5b-e0eb5177e292",
   "metadata": {
    "tags": []
   },
   "outputs": [],
   "source": [
    "pipeline(p, \n",
    "         max_new_tokens=100,\n",
    "         return_full_text=True,\n",
    "         #eos_token_id=128009,\n",
    "         #pad_token_id = 128009,\n",
    "         #temperature=temp,\n",
    "         #top_p = top_p,\n",
    "    )"
   ]
  },
  {
   "cell_type": "code",
   "execution_count": null,
   "id": "853c0393-4f3b-4338-a727-dd7ce24ad6a6",
   "metadata": {
    "tags": []
   },
   "outputs": [],
   "source": [
    "prompt = \"What can you tell me about the genbank identifier CP000046.1?\"\n",
    "output = get_output(pipeline, \n",
    "                    build_prompt(system_directions, about_user=\"I am god\", prompt=prompt),\n",
    "                    max_new_tokens=250, temp=0.01);\n",
    "print(output)"
   ]
  },
  {
   "cell_type": "code",
   "execution_count": null,
   "id": "2f6a7ee0-96bf-4569-b1cd-e77f20173e82",
   "metadata": {
    "tags": []
   },
   "outputs": [],
   "source": [
    "prompt = \"What can you tell me about the genbank identifier CP000046.1?\"\n",
    "output = get_output(pipeline, \n",
    "                    build_prompt(system_directions, about_user=\"I am god\", prompt=prompt),\n",
    "                    max_new_tokens=250, temp=0.01);\n",
    "print(output)"
   ]
  },
  {
   "cell_type": "code",
   "execution_count": null,
   "id": "d1a67fda-1b27-4b44-93f2-2ea1a4aa0675",
   "metadata": {
    "tags": []
   },
   "outputs": [],
   "source": [
    "queries = [f'What can you tell me about {key}' for key in df['target_keys'].unique()]\n",
    "queries[:4], len(queries)"
   ]
  },
  {
   "cell_type": "code",
   "execution_count": null,
   "id": "f70d6bb8-03f1-440a-87f9-dac70b7d3be4",
   "metadata": {
    "tags": []
   },
   "outputs": [],
   "source": [
    "#system_directions = \"You are a search tool that returns accurate anPlease provide the user accurate information to the best of your ability\\n\\\n",
    "#Please provide clear and concise answers.\\n\\\n",
    "#Only state what you know to be true and if something is unclear please state that clearly or indicate that you do not know the answer\"\n",
    "#print(system_directions)\n",
    "\n",
    "#prompt = \"What are good ways to ask you about more information with regards to summary and high-level information about a genbank accession number? \\n\\\n",
    "#in each of your examples, please list the accession number as <accession_number>\"\n",
    "#full_prompt = build_prompt(system_directions, about_user=None, prompt=prompt)\n",
    "#output = get_output(full_prompt, max_new_tokens=500)\n",
    "#print(output['content'])\n",
    "\n",
    "\n",
    "#output.split('\\n')[4]\n",
    "#holder = [x for x in output.split('\\n') if len(x)>3] \n",
    "#[line.split(\":\")[1] for line in holder if line[3]==\"*\"]\n",
    "\n",
    "#def get_init_prompts(acc_number, queries):\n",
    "#    if acc_number is None:\n",
    "#        acc_number = \"CP000046.1\"\n",
    "#    return [q.replace(\"<accession_number>\", acc_number) for q in queries]\n",
    "\n",
    "#queries = [line.split(\":\")[1] for line in holder if line[3]==\"*\"]\n",
    "#queries = [ \"What information does GenBank accession number <accession_number> contain?\",\n",
    "#             \"What is the protein sequence for GenBank accession number <accession_number>?\",\n",
    "#             \"Can you provide me with the DNA sequence for GenBank accession number <accession_number>?\",\n",
    "#             \"What are the features associated with GenBank accession number <accession_number>?\",\n",
    "#             \"What is the organism associated with GenBank accession number <accession_number>?\",\n",
    "#             \"What are the references associated with GenBank accession number <accession_number>?\",\n",
    "#             \"Can you provide me with the full GenBank record for accession number <accession_number>?\",\n",
    "#             \"Are there any similar sequences to GenBank accession number <accession_number>?\"]"
   ]
  },
  {
   "cell_type": "code",
   "execution_count": null,
   "id": "a50ac880-b7ef-4063-889b-fb80ba075807",
   "metadata": {
    "tags": []
   },
   "outputs": [],
   "source": [
    "output_df = query_model(pipeline, queries=queries[:1], system_directions=system_directions, \n",
    "                        new_tokens=100,)\n",
    "output_df.shape"
   ]
  },
  {
   "cell_type": "code",
   "execution_count": null,
   "id": "7160e79f-4858-4e32-bd71-21947b7dcf2b",
   "metadata": {
    "tags": []
   },
   "outputs": [],
   "source": [
    "output_df.user_prompt.values"
   ]
  },
  {
   "cell_type": "code",
   "execution_count": null,
   "id": "e6a07b5c-a320-4c5d-923c-983e05237a3a",
   "metadata": {
    "tags": []
   },
   "outputs": [],
   "source": [
    "output_df.output.values"
   ]
  },
  {
   "cell_type": "markdown",
   "id": "97276a35-79d8-470c-857c-faa4f7a56765",
   "metadata": {},
   "source": [
    "Full text + rag request below:"
   ]
  },
  {
   "cell_type": "code",
   "execution_count": null,
   "id": "2d0be2fa-222f-4c8a-a9b0-db10888a1a4c",
   "metadata": {
    "tags": []
   },
   "outputs": [],
   "source": [
    "prompt = \"Please analyze the scientific article text below and describe to me how the authors used or analyzed the dataset represented by the identifier/accession number 'CP000046.1'. The identifier refers to a Whole Genome Shotgun genome record that was sourced from the GenBank database maintained by the National Center for Biotechnical Information. This data represents the genome of a specific strain of the bacteria species 'Staphylococcus aureus'. The strain is referred to variously as 'subsp. aureus COL' or 'ST250 COL'. Please provide 1-3 sentences describing how this dataset was integrated into the authors' analysis and include specific details as to the analytical techniques and tools that were involved in this dataset's usage.\\nIn this work, we have removed some of the confusion surrounding the use of the name “USA500,” placed USA500 strains in the context of the CC8 group, and developed a strategy for assignment to subclades based on genome sequence. Our new phylogeny of USA300/USA500 will be a reference point for understanding the genetic adaptations that have allowed multiple highly virulent clonal strains to emerge from within CC8 over the past 50 years. KEYWORDS: evolution, IS256, MRSA, USA300, adenosine, drug resistance Go to: ABSTRACT USA500 isolates are clonal complex 8 (CC8) Staphylococcus aureus strains closely related to the prominent community- and hospital-associated USA300 group. Despite being relatively understudied, USA500 strains cause a significant burden of disease and are the third most common methicillin-resistant S. aureus (MRSA) strains identified in the U.S. Emerging Infections Program (EIP) invasive S. aureus surveillance. To better understand the genetic relationships of the strains, we sequenced the genomes of 539 USA500 MRSA isolates from sterile site infections collected through the EIP between 2005 and 2013 in the United States. USA500 isolates fell into three major clades principally separated by their distribution across different U.S. regions. Clade C1 strains, found principally in the Northeast, were associated with multiple IS256 insertion elements in their genomes and higher levels of antibiotic resistance. C2 was associated with Southern states, and E1 was associated with Western states. C1 and C2 strains all shared a frameshift in the gene encoding AdsA surface-attached surface protein. We propose that the term “USA500” should be used for CC8 strains sharing a recent common ancestor with the C1, C2, and E1 strains but not in the USA300 group. IMPORTANCE In this work, we have removed some of the confusion surrounding the use of the name “USA500,” placed USA500 strains in the context of the CC8 group, and developed a strategy for assignment to subclades based on genome sequence. Our new phylogeny of USA300/USA500 will be a reference point for understanding the genetic adaptations that have allowed multiple highly virulent clonal strains to emerge from within CC8 over the past 50 years. KEYWORDS: evolution, IS256, MRSA, USA300, adenosine, drug resistance Go to: INTRODUCTION The name “USA500” is used to describe a group of methicillin-resistant Staphylococcus aureus (MRSA) clones that have emerged over the past 20 years as frequent causes of community-associated (CA) and health-care-associated infections in North America. USA500 was first defined as a distinct pulsed-field gel electrophoresis (PFGE) type (1). Like the better known USA300 PFGE type, which has caused an epidemic of community-acquired infections in the United States (2, 3), USA500 strains mostly have the multilocus sequence type (MLST) ST8 genotype and are part of the CC8 clonal complex (4). Both USA300 and USA500 carry the type IV SCCmec cassette conferring resistance to β-lactam antibiotics and have conserved mutations in their capsule locus (5). USA300 strains are distinguished from USA500 by having Panton-Valentin leukocidin (PVL) toxin genes within a prophage of the phiSA2 family (6). Isolates of the North American epidemic (NAE) USA300 lineage have an arginine catabolic mobile element (ACME) cassette next to SCCmec, whereas those of the South American epidemic (SAE) lineage have a copper and mercury resistance (COMER) element at same locus (7). USA300 strains also have a SaPI5 pathogenicity island containing sek and seq enterotoxin genes (8). The arginine deiminase (arc) and polyamine resistance (speG) genes on the ACME cassette and the PVL toxin have been proposed as key determinants of the enhanced ability to cause skin and soft tissue infections (SSTIs) and transmissibility of USA300 (3, 9), although strains with deletions in these genes have been frequently reported (2, 10, 11). It has been postulated that USA300 evolved as a clonal lineage from within a background of USA500 strains (2, 12). However, genome sequencing studies suggested the relationship was more complex, with USA500 strains assigned to different clades within CC8 (2, 3, 5, 13). Nomenclature for USA500 strains is also complicated. USA500 strains collected at the CDC (Centers for Disease Control and Prevention) were subdivided into two groups based on closely related PFGE types: true “USA500” and “Iberian.” Before 2012, the assignment was based largely on PFGE. From 2012 onward, an algorithm for inferring USA500 and Iberian was implemented (https://www.cdc.gov/HAI/settings/lab/CCalgorithm.html), which combined PFGE, spa, MLST, and PCR amplicon-based detection of key horizontally acquired staphylococcal enterotoxin A (sea) and B (seb) genes (12). Confusingly, the term “Iberian” was also earlier used to describe a PFGE type from an MRSA epidemic in Spain and other countries between 1990 and 1995 that was found to be ST247 (CC8) with SCCmec type Ia (14,–16). The CDC’s Emerging Infections Program (EIP) conducts active, laboratory- and population-based surveillance for invasive MRSA infections (17). Strains typed as USA500/Iberian have represented a significant proportion of EIP MRSA isolates. In 2013 (the final year in which we drew collected strains for sequencing in this study), they constituted 13.5% of health care-associated MRSA (HA-MRSA) strains collected at 5 surveillance sites (https://www.cdc.gov/abcs/reports-findings/surv-reports.html). Notably, in Georgia the incidence was higher than other sites, with USA500/Iberian representing 20% of all HA-MRSA infections over the period from 2012 through 2015 (R. Overton, personal communication). While numerous projects have investigated USA300 evolution through comparative genomics (2, 3, 10, 11, 13), fewer genomic studies have been performed on USA500. Here we aimed to investigate the diversity of USA500 isolates causing invasive infections in the United States through analysis of a large set of strains collected through EIP surveillance. The goal of this work was to arrive at a genetic definition of USA500 that can be used for future typing efforts and to understand its relationship to USA300. Go to: RESULTS CC8 strains typed as “USA500/Iberian” fall into three major clades. De novo-assembled contigs of the 539 strains typed as MRSA USA500, along with data from 24 published CC8 strains (listed with citations in Table S1 in the supplemental material), were aligned against the reference genome of strain 2395 (2,995,646 bp with a large plasmid [pUSA500] of 32,406 bp) (18). The 2395 strain, recovered from a wound infection in New York (18, 19), was originally assigned to the “Iberian” subgroup of USA500 based on the presence of the sea and seb genes. The whole-genome alignment of all 539 CC8 strains sequenced in this study plus 24 published genomes had a core region of 1,995 kbp (67.5% of the 2,956-kbp chromosome). Regions not part of the core alignment on the chromosome included prophages, pathogenicity islands, transposons, and other repeat sequences. Plasmid content was variable between strains and therefore excluded from consideration in the phylogenetic reconstruction. After recombinant regions were identified and removed, the final alignment consisting of 13,765 chromosomal single nucleotide polymorphisms (SNPs) was used to estimate a maximum likelihood tree (Fig. 1). We labeled the CC8 sublineages A to F using a scheme developed recently (20) (Fig. 1). An external file that holds a picture, illustration, etc. Object name is sph0031825330001.jpg FIG 1 Maximum likelihood phylogeny of USA500 and other CC8 strains. The COL reference genome (68) was an outgroup. The major clades are color coded: F, green; E1, gray; D, purple; C1, dark blue; C2, blue; BA, brick red. The reference genome was strain 2395 in the C1 clade. The likelihood score for the tree was −3,374,456. (a) Circular view with locations of representative strains from each clade indicated in the text. Small black squares on the tree indicate branches supported by fewer than 90% bootstrap replicates. Outer ring 1 shows the results of inferred PFGE typing by PCR. Black indicates Iberian, gray indicates USA500, and white indicates other result or not done. The second ring is colored by U.S. state of origin: red, California; purple, Colorado; dark blue, Connecticut; light blue, Georgia; dark purple, Maryland; orange, Minnesota; yellow, New York; magenta, Oregon; green, Tennessee. The third ring (red squares) shows presence of an SaPI3/5-like site-specific integrase gene. The fourth ring (green squares) shows the presence of at least one copy of IS256 in the genome. Only results from strains sequenced in this study are shown on the outer rings. The figure was created by iTOL (64). The tree with full metadata is publicly available at http://itol.embl.de/tree/1701401041445011519064958. Panel b is the same tree as panel a but with all multistrain clades collapsed. The internal node that is the common ancestor of all USA500/USA300 isolates is marked with an asterisk. The percentage of bootstrap support is shown for each of the branches. This tree is publicly available at http://itol.embl.de/tree/17014010416011519065058. TABLE S1 Samples included from external studies. Download TABLE S1, DOCX file, 0.1 MB. Copyright © 2018 Frisch et al. This content is distributed under the terms of the Creative Commons Attribution 4.0 International license. The phylogeny revealed that the majority of USA500/Iberian strains were in three major and discrete clades within CC8. Two of the USA500 clades were in the C sublineage and were designated C1 and C2. The other was in the E sublineage and was designated E1. Nineteen strains were placed outside these three clades: in USA300 (sublineage F), sublineage B, or deep-branching sublineages E and C (Fig. 1). Metadata for each strain included patient age, epidemiological classification of infection (community-associated [CA], health care onset [HO], health care-associated community onset [HACO], or unknown), culture source (blood, cerebrospinal fluid [CSF], bone, etc.), outcome (lived, died, or unknown), and U.S. state of isolation. Using a permutation test, the three major USA500 clades defined here (C1, C2, and E1) were found to have a significantly nonrandom distribution in only the U.S. state of isolation metadata variable (P value of 9.7e−12), reflecting the geographical structuring of the USA500 clades. The C1 clade (64 strains from this study) contained the strain 2395 USA500 isolate that was used as the reference genome sequence for this study (18). The majority (52/64 [81%]) of samples were from Maryland, Connecticut, or New York. Most C1 strains were ST8, with minority populations of ST609 and ST1508. The C2 clade corresponded to the group labeled as “USA500-like” by Jamrozy et al. (13). These strains were predominantly from Georgia and Tennessee (351/378). One strain was typed as ST476, and the rest were ST8. E1 clade strains were predominantly isolated in California, Colorado, Minnesota, and Oregon (63/78 [81%]). This clade contained the BD02-25 strain originally used as the USA500 reference isolate (12). Of these, 36/78 (46%) were ST2253 and the rest were ST8. Two strains closely related to USA300 contained the S. aureus pathogenicity island (SaPI5) with USA300-like seq and sek genes but lacked the typical USA300 mobile elements ACME and PVL (Fig. 2). An external file that holds a picture, illustration, etc. Object name is sph0031825330002.jpg FIG 2 Divergent SaPI3/SaPI5 pathogenicity islands. The alignment shows an E1 strain (MN-1310) containing a novel SaPI3-E1 region, USA300-FPR375 and (SaPI5), USA500-2395 (SaPI3) and an example of an E1 strain lacking an inserted island at this locus (CA-680). Conserved chromosome genes are colored blue. SaPI3-E1 and SaPI share little and SaPI3 and SaPI3-E1 themselves share limited nucleotide similarity. The SaPI site-specific integrase gene is colored green, and the sek/seq enterotoxins are colored purple. Gray shading shows regions with >95% nucleotide identity in blastn alignments. The figure was created using genoplotR (69). Seventy-six percent (39/51) of E1 strains were typed as “USA500” by the CDC algorithm, whereas 83% (304/368) of strains in C1 and C2 were typed as “Iberian” (Table 1). If we assume that E1 corresponded to the “USA500” inferred PFGE type and that the C1 and C2 strains were “Iberian” (because the majority of strains from each respective clade had these types), the number of correctly typed strains was 343 out of 419 (82% accuracy). The major reason for the relatively low accuracy was the frequent turnover of pathogenicity islands and prophages in USA500 genomes. The seb gene used in the CDC algorithm (in addition to sek and seq) was on the SaPI5 pathogenicity island in USA300; an analogous island in COL and USA500 (SaPI3) carried sek and seq (Fig. 2) (21). The SaPI was common in C1 and C2, but most E1 strains did not contain either SaPI3 or SaPI5, although a subclade of 8 strains was found to have a previously undescribed variant of SaPI3 at the same chromosomal locus (called here SaPI3-E1), with low sequence identity to the other islands and lacking sek/seq homologs (Fig. 2). Families of S. aureus prophages inserted into different conserved sites in the genome and varied in frequency of occurrence between strain groups (22). The sea gene used for typing, as well as sak, was usually found on the phiSA3 prophage. This element was inserted at a site in the hlb hemolysin B gene in C1/C2, but in the E1 strains the DNA sequence of the element was missing the sea/sak genes (Fig. 2). Most C1 and C2 strains carried the phiSA2 prophages, which were rare in E1. Conversely, phiSA1 and phiSA6 were more common in E1 (75% and 45%, respectively) than other clades (Fig. 3). TABLE 1 Inferred PFGE type of strains in this study, by cladea Clade No. of strains sequenced Sequenced Inferred “USA500” Inferred “Iberian” C1 64 3 57 C2 378 61 247 E1 78 39 12 Other 19 8 7 Total 539 111 323 Open in a separate window aThe strains sequenced in this study were placed in clades by their position on the phylogenetic tree (Fig. 1). The third and fourth columns are the inferred PFGE type to which the strains were assigned using methods described in https://www.cdc.gov/abcs/reports-findings/survreports/mrsa13.html. (Note that not all strains sequenced in this study were tested by the algorithm.) An external file that holds a picture, illustration, etc. Object name is sph0031825330003.jpg FIG 3 Frequency of prophages in the major USA500 subclades. Emergence of the USA500 clades. Initial analysis suggested that there was a clock-like structure to the phylogeny, with strains sampled in earlier years nearer the root than those from later years. Therefore, we attempted to estimate the dates of diversification of the USA500 clades using a Bayesian molecular clock method implemented by the BEAST2 software package (23) (see Fig. S1 in the supplemental material). Key parameter predictions that could be cross-referenced against other studies were consistent with our estimates. For instance, our estimate of the substitution rate parameter (1.158e−6 mutations per nucleotide site per year) was similar to those of previous S. aureus studies: e.g., 1.3e−6 (24), 1.53e−6 (11), 1.25e−6 (10), and 1.34e−6 (2) (with the caveats that some of these studies had partially overlapping data sets and each used slightly different evolutionary models). Furthermore, the estimate of 1989 as the time to the most recent common ancestor (tMRCA) of the NAE group USA300 strain was within the ranges of other recent publications (3, 10, 11). The C1, C2, E1, and F clades all appeared to have emerged at time points toward the middle of the 20th century. We noted that the C2 clade tMRCA estimation was likely significantly retarded by the three deeply branching isolates. When these were removed, the tMRCA was 1972 (1945 to 1992, 95% high posterior density intervals). Each of the major clades’ Tajima’s D statistics was negative (Table 2), consistent with a recent population size expansion scenario. TABLE 2 Time to the most recent common ancestor (tMRCA) for the main clades Clade Median estimated tMRCAa Tajima’s D C1 1937 (1873−1973) −2.32 C2 1945 (1890–1978) −2.63 E1 1950 (1899–1980) −2.42 F 1951 (1901–1981)b −1.90 F (NAE) 1989 (1976–1999) −0.98 F (SAE) 1994 (1983–2001) −0.85 USA300/USA500 (C–F) 1892 (1820–1952) −2.33 Open in a separate window aIn parentheses are the 95% highest posterior density intervals. bSee reference 11 for details. FIG S1 Dated reconstruction of USA500 clades using BEAST 2. A log-normal relaxed molecular clock was employed (see Materials and Methods for details), and we used the dates of isolation to calibrate the clock. Color coding is as follows: light blue clade, C1; dark blue clade, C2; red, clade USA300; and green, clade E1. The scale axis gives the years from 2013 going backwards in time. Download FIG S1, DOCX file, 0.4 MB. Copyright © 2018 Frisch et al. This content is distributed under the terms of the Creative Commons Attribution 4.0 International license. USA500 clades differ in proportion of strains resistant to antibiotics. The phenotypic antibiotic resistance profile was determined for most strains sequenced in this study using the reference broth microdilution (rBMD) method with CLSI (Clinical and Laboratory Standards Institute)-recommended interpretive criteria (25) (Fig. 4). There was no trend toward increased resistance to greater numbers of drugs per strain over the time period 2005 through 2013 (see Fig. S2a in the supplemental material). However, it was notable that C1 strains were resistant to a greater number of antibiotics than C2 and E1 strains (Fig. S2b). Almost all C1 strains were resistant to tetracycline (60/64) and gentamicin (54/64) (Fig. 4). Most C1 (55/64) and C2 (324/325) strains tested were also resistant to trimethoprim-sulfamethoxazole, a drug often used in treating community-acquired S. aureus SSTIs, but resistance was uncommon among E1 strains (3/72). These and other more sporadic resistance phenotypes were associated with the presence of horizontally acquired plasmids, the Tn916 conjugative transposon (which conferred tetracycline resistance), or a 3.3-kb insertion element containing the trimethoprim resistance gene dfrG (13, 26,–28). An external file that holds a picture, illustration, etc. Object name is sph0031825330004.jpg FIG 4 Percentage of resistance to antibiotics that showed significant variability between USA500 clades measured by rBMD. CH, chloramphenicol; CL, clindamycin; EY, erythromycin; DX, doxycycline; TE, tetracycline; GM, gentamicin; LV, levofloxacin; RI, rifampin; TS, trimethoprim/sulfamethoxazole. FIG S2 Antibiotic resistance by year. (a) All strains. (b) By USA500 clade. Download FIG S2, DOCX file, 0.2 MB. Copyright © 2018 Frisch et al. This content is distributed under the terms of the Creative Commons Attribution 4.0 International license. Most isolates tested (435/464 [94%]) were resistant to the fluoroquinolone (FQ) levofloxacin. We observed that FQ-susceptible strains tended to be on early branching lineages of the C2 and E1 clades. This mirrored the pattern seen in USA300, where a subgroup of strains that branched after an estimated point in 1994 were found to be FQ resistant (10, 11). These results suggested that resistance to FQ independently evolved in multiple emergent CC8 lineages. Conserved IS256 insertion sites in C1 strains suggest expansion from an ancestor with multiple transposon insertions. Insertion sequence IS256 was previously shown to play a significant role in the hypertoxicity of strain 2395 and other isolates from the C1 clade (18). The genome was notable for the presence of 18 identical copies of the insertion sequence IS256 (16 on the chromosome, 2 on the plasmid). Two IS256 elements in inverted orientation flank gentamicin and trimethoprim resistance genes to form transposon Tn4001, which is part of the pUSA500 plasmid. One IS256 element in the promoter of the rot (repression of toxin) gene, a master positive transcriptional regulator of toxin expression, was found to be responsible for increased cytotoxin production. The 73 USA500 isolates that contained at least one copy of IS256 included all 64 in C1. Benson et al. speculated that the pUSA500 plasmid spread IS256 to the USA500 chromosome (18). We found that 40 strains contained sequences similar to the pUSA500 plasmid, judged as having a BLAST match of more than 97% sequence identity over >13 kb of the 32-kb plasmid (accession no. CP007500.1). Only one strain carrying a pUSA500-like plasmid was outside the C1 clade (in C2). Meanwhile, seven strains outside C1 without a USA500-like plasmid had an IS256. Thus, there was not an absolute correlation of the presence of the plasmid with the transposon. Possibly the plasmid originally introduced the transposon in these strains and was cured after a time sufficient for IS256 to transpose into the chromosome. We determined the chromosomal locations of IS256 insertions in our sequenced strains relative to the 2395 reference (18) in using the ISMapper tool (29). Within the C1 clade, the number of IS256 chromosomal insertion locations ranged from 9 to 42, while outside C1, the range was 1 to 3 locations. There was no trend toward increase in number of insertions per isolate during the period of collection (2005 to 2013) (see Fig. S3a in the supplemental material). Eleven insertion sites were common among almost all C1 strains (Fig. S3b), suggesting that these were present in the last common ancestor of the clade. These 11 sites included one upstream of the rot gene (18). FIG S3 IS256 elements. (a) Number of IS256 elements in C1 genomes over time. (b) Sites for insertion of IS256 on the 2395 chromosome. Download FIG S3, DOCX file, 0.1 MB. Copyright © 2018 Frisch et al. This content is distributed under the terms of the Creative Commons Attribution 4.0 International license. USA500 C clade strains have a frameshift mutation in the adsA adenosine synthase gene We noted that many USA500 strains had a premature stop in adsA, encoding adenosine synthase (previously called sasH [30]). The cell-wall-anchored protein encoded by adsA had been shown to aid in evasion of phagocytic clearance in blood, by catalyzing the production of adenosine, an anti-inflammatory signal molecule, from AMP (31). The wild-type AdsA protein has an LPXTG motif necessary for sortase-mediated anchoring to peptidoglycan on the cell surface (32) in the C terminus of the 773-amino-acid preprotein. The most important residues for 5′-nucleotidase activity are toward the N terminus: aspartic acid 127 and histidine 196 (see Fig. S4 in the supplemental material). All isolates in the C clade had a duplication of the “TCAA” quadruplet at nucleotide positions 340 to 343 of the wild type (see Fig. S5 in the supplemental material). The frameshift resulted in a truncated protein of 131 amino acids (as well as a predicted C-terminal stub of 636 amino acids) instead of the full-length 773-amino-acid sequence. The C-terminal stub was not predicted to have a signal sequence necessary for translocation out of the cytoplasm. Therefore, the truncated proteins, if they were stably expressed, would be predicted to be diminished in activity as surface-exposed adenosine synthases. This mutation clearly did not abolish the potential to cause human systemic illness, as might have been predicted from the result of earlier mouse bacteremia model studies (31), since all isolates were associated with invasive disease. FIG S4 Schematic of the adsA frameshift mutation. Shown are the approximate locations of the frameshift in the DNA sequence and important amino acid domains (red). The D127 and H196 were shown to reduce 5′-nucleosidase activity when substituted for with alanines. Download FIG S4, DOCX file, 0.1 MB. Copyright © 2018 Frisch et al. This content is distributed under the terms of the Creative Commons Attribution 4.0 International license. FIG S5 Phylogenetic distribution of the adsA frameshift mutation. Strains with a frameshift are shaded light blue on the outer ring; wild-type strains are dark blue. Clade colors are the same as in Fig. 1. Only strains sequenced in this study are marked. Download FIG S5, DOCX file, 1.9 MB. Copyright © 2018 Frisch et al. This content is distributed under the terms of the Creative Commons Attribution 4.0 International license. Go to: DISCUSSION It is important to establish a consistent use of the name “USA500” that can be used for future epidemiological studies and comparisons. The terms “USA500” and “USA300” are derived from a PFGE typing scheme established in early 2000s (33) and represent different lineages within a single clonal complex (CC8) that acquired SCCmec type IV cassettes and increased in incidence in the human population. In essence, three definitions of the USA500 strain have been used in the literature, as described below: (i) USA500 PFGE type, (ii) USA500 sensu stricto as a single clade within CC8, and (iii) USA500 sensu lato as the genetic background to USA300 (e.g., as proposed by Glaser et al. [2]). (i) USA500 PFGE type. USA500 is the original designation associated with MRSA strain types in the United States, based on PFGE (1). However, PFGE will be performed less frequently on future isolates as clinical genome sequencing becomes more routine (34). We also showed that PFGE (before 2012) and the algorithm (after 2012) for inferring USA500 from “Iberian” PFGE using MLST or spa and sea/seb PCR was only 82% accurate in distinguishing USA500 and Iberian USA500 pulse types (Fig. 1; Table 1). (ii) USA500 sensu stricto as a single clade within CC8. If USA500 was represented a single clade, the primary candidates would be C1 and C2 or E1. Strain 2395 (C1) has been the reference genome for USA500 since the publication by Benson et al. (15). This strain was assumed to be representative of a unitary USA500 clade in the recent genomic analysis of CC8 by Strauß et al. (34), which led the authors to conclude that USA500 was not a direct ancestor of USA300. Alternatively, the marker-based typing scheme proposed by Li et al. designated the E1 clade as USA500 (11) (Fig. 1; Table 1). Designation of one or the other of these clades as the sole USA500 clade would have the advantage of casting USA500 as a true monophyletic clade. The problem is that any sensu stricto definition excludes many other strains that are commonly referred to in the literature as USA500. (iii) USA500 sensu lato as the genetic background to USA300. As proposed by Glaser et al. (2), USA500 sensu lato could be considered the genetic background to USA300. All CC8 non-USA300 strains that derive from an ancestor that contained a signature cap5D A nucleotide insertion at position 994 in the gene (5) could be considered USA500. Based on this definition, the CC8 sublineages C, D, and E (20) would all be considered USA500 (Fig. 1). We believe the “sensu lato” definition has the advantages of being simple and inclusive. One consequence of using this definition is that it would sequester some strains not previously considered USA500, including the recently described epidemic Russian clone OC8 (35) (Fig. 1). The clade containing all descendants of the common ancestor of USA300 and USA500 isolates (subgroups C to F) would be called USA300/USA500 (sensu lato). The whole-genome phylogeny and molecular clock analysis revealed that the three major USA500 clades collected by the EIP had undergone population expansions in the United States from around the middle of the 20th century. USA300 emerged from the F sublineage and spread within the United States and internationally (36) rather than remaining regionally concentrated, as the USA500 clades did. Including the recent Russian OC8 strain (35), we now know there have been at least five significant expansions of virulent strains carrying SCCmec type IV cassettes from within the CC8 clonal complex (USA300, OC8, and the 3 USA500 clades). CC8 was also the origin of the first MRSA strains with the type I SCCmec cassette (ST250) in the early 1960s (37, 38). It has been suggested that the CC8 background in general and USA500/USA300 in particular have intrinsic high virulence potential (39, 40). Li et al. showed that USA300 strains and USA500 (clade E1) strain BD02-25 had greater virulence in a bacteremic mouse model than other CC8 strains and enhanced resistance to human antimicrobial peptides (12). Benson et al. also demonstrated the unusually high toxin levels of the C1 strain 2395 (18). Each of the five expansions within CC8 (USA300, OC8, C1, C2, and E1) may have been the result of either specific genetic adaptations or chance events or a combination of both. Interestingly, there are parallels in the types of genetic changes acquired by each strain expansion and also unique differences. Antibiotic resistance may have played a role in the expansion of the C1 clade in particular (Fig. 4). Fluoroquinolone resistance, as an example, likely evolved in parallel on at least 4 occasions by the strains that form part of the study. There must have been particular selection pressure for survival of the effects of this class of antibiotics (possibly administered to treat other infections), and the mutations probably have low fitness cost, allowing them to persist in the population even in the absence of an antibiotic selective pressure. It has been suggested that the propensity for secretion of fluoroquinolones onto the skin through sweat may lead to high enough drug concentrations to effect selection (41). In the case of OC8 and C1, parallel acquisition of IS256 seemed to be associated with expansion (18, 35). An IS256 element in strain 2395 (clade C1) disrupted the rot (repressor of toxicity) locus and increased toxin production (18). C1 strains containing IS256 were found to be more cytotoxic for human neutrophils (18, 42) and also exhibited greater virulence for mice in a systemic infection model (43). The OC8 strain had 19 IS256 copies, two of which, in inverted orientation, facilitated a 1-Mb genomic inversion in the main chromosome (35). IS256 is a catalyst for expansion in diverse S. aureus lineages and may affect numerous other phenotypes—for example, vancomycin resistance (44). IS256 transposition activity is enhanced by antibiotic concentration, which may be a clue in understanding the recent spread of the element in S. aureus and other pathogens (45,–47). We surveyed a database of 3,755 published S. aureus Illumina genome assemblies for the IS256 transposase, finding identical or nearly identical (a maximum 2-nucleotide [nt] difference) sequences in a number of recent clonally expanding genotypes. These included 41/41 ST772 strains, an emerging Indian strain, CA-MRSA (48), and 50/50 ST239, a worldwide HA-MRSA clone contained IS256. IS256 was common (37/262 strains) in ST398, associated with human/livestock transmission (49). No USA300 strain contained IS256. The fact that very similar IS256 elements can move between S. aureus clonal complexes is fascinating given the known genetic barriers to transfer (50, 51). Genes with 100% nucleotide identity to the USA500 IS256 transposase gene were also found by BLAST in other bacterial species. These species included Staphylococcus epidermidis, Staphylococcus haemolyticus, Staphylococcus pseudintermedius, Staphylococcus warneri, Staphylococcus capitis, Enterococcus faecium, Enterococcus faecalis, Enterococcus durans, Clostridiales bacterium, Clostridium difficile, Mycoplasma mycoides, Pseudomonas aeruginosa, and Escherichia coli. This suggested IS256 is part of a recent genetic exchange community (26) that encompassed diverse genetic groups within S. aureus as well as several other pathogen species. For USA300, the mobile ACME (or COMER) elements, speG, and PVL toxins were likely important for its success in community-associated infection (40). The E1 USA500 clade is most closely related to USA300 and may share some of its yet not fully understood adaptations that promote enhanced expression of extracellular toxins and increased transmission rate. The C subgroup had a synapomorphic frameshift mutation in the adsA gene encoding the core (52) surface protein. Previous studies have shown that AdsA is required for full virulence in mouse bacteremia models. A possible explanation invoking pathoadaptation is that the adsA functions to reduce inflammation when S. aureus is on the skin by promoting production of adenosine, a purine nucleotide and antagonist (53). Inflammation may contribute to more frequent transmission and spread of the bacteria by causing rashes and skin damage. The finding that the disrupted adsA gene is common in clinical USA500 MRSA isolates from the United States may also be significant in the future given that the encoded surface protein is a potential vaccine target (54). In conclusion, whole-genome sequencing has resolved the conundrum of USA500 nomenclature and unveiled possibly important genetic changes (SNPs and horizontal acquisition of genes) that played a role in evolution of pathogenic CC8 MRSA by promoting virulence and/or transmission. These mutations can be used for subtyping CC8 strains using PCR or genome-based types. Functional studies are needed now to disentangle which mutations enhance the success of community and hospital pathogens and which are just random evolutionary noise. Go to: MATERIALS AND METHODS Bacterial strains. Invasive MRSA isolates were collected from California (CA), Colorado (CO), Connecticut (CT), Georgia (GA), Maryland (MD), Minnesota (MN), New York (NY), Oregon (OR), and Tennessee (TN) as part of the Emerging Infections Program (EIP) of the Centers for Disease Control and Prevention (CDC) as previously described (55). All isolates were characterized at the CDC by SCCmec typing, detection of staphylococcal toxins, antimicrobial susceptibility testing, pulsed-field gel electrophoresis (PFGE) typing, and PCR typing as previously described (1, 55). PFGE was only performed from 2005 to 2008; from 2009 to 2011, an algorithm (https://www.cdc.gov/HAI/settings/lab/inferred-PFGE-algorithm.html) was used to infer PFGE type, and then between 2012 and 2013, a second algorithm incorporating spa typing was used (https://www.cdc.gov/HAI/settings/lab/CCalgorithm.html). From 758 strains classified as USA500/Iberian, 549 strains were chosen for whole-genome sequencing based on maximizing geographic and genetic diversity, based on metadata collected at the time of isolation. We used all the isolates from states other than Georgia, which had the majority of isolates. Strains from Georgia were randomly down-sampled using the criterion that all sampling years, hospitals, and unique PFGE patterns would be represented in the set selected for sequencing. The number of isolates chosen from each year varied between a high of 74 (2005) to a low of 49 (2013) (see Fig. S6 in the supplemental material). FIG S6 Number of strains sequenced each year (2005 to 2013). Download FIG S6, DOCX file, 0.1 MB. Copyright © 2018 Frisch et al. This content is distributed under the terms of the Creative Commons Attribution 4.0 International license. DNA isolation. MRSA was grown overnight at 35°C on Trypticase soy agar with 5% sheep’s blood (BAP) (Becton, Dickinson and Company, Sparks, MD). Bacterial colonies from the third and fourth quadrants of the BAP were transferred into 1.5 ml of phosphate-buffered saline (PBS) with 0.02% Tween (PBST) and centrifuged at 13,200 × g for 2 min at room temperature. Cells were resuspended in 1.5 ml of PBST and centrifuged at 13,200 × g for 2 min at room temperature two more times and resuspended in 1.5 ml PBST. Nine hundred microliters of each sample was transferred into a Lysing Matrix E tube (MP Biochemicals), vortexed for 3 min, and then centrifuged at 5,000 × g for 1 min, and 200 µl was transferred into an SEV cartridge (MP Biochemicals) and processed per the manufacturer’s instructions on the Maxwell 16 or Maxwell 16 MDx instrument (Promega). Whole-genome shotgun sequencing. Libraries constructed using whole-genome DNA preparations were sequenced using an Illumina HiSeq 2500 instrument. Raw read data were deposited in the NCBI Short Read Archive under project accession no. PRJNA316461. The median sequence coverage for each genome was 89-fold with a median per base Q score of 37. One strain was excluded due to library failure. Genome assembly and annotation. Strains were assembled de novo using SPAdes v3.7.1 (56) and annotated using PROKKA v1.11 (57). FASTQ sequencing output files from strains with more than 100× coverage were down-sampled using a custom script (https://gist.github.com/rpetit3/9c623454758c9885bf81d269e3453b76) based on the seqtk toolkit (https://github.com/lh3/seqtk). Antibiotic resistance phenotypes were predicted for each strain based on the methods of Gordon et al. (58). Roary (59) was used to estimate a pan-genome from de novo-assembled contigs of the strains sequenced in the study. The MLST was ascertained using SRST2 (60). Two strains were excluded because pangenome content suggested they were not S. aureus, and 8 strains fell outside CC8 based on MLST patterns. BLAST comparisons to assembled genome sequences. Blast+ v2.2.28 was used for alignments. For short nucleotide sequences (<31 nt), we used the blastn with the “blastn-short” task and called matches with a greater than 90% identity and an alignment length of at least 15. For alignment of protein sequences, we used the tblastn program and called matches with at least 97% identity. For most larger nucleotide alignments, we used blastn with the megablast task and called matches with greater than 97% identity. For antibiotic resistance genes, we followed the guidelines of Gordin et al. (58) and used blastn with a word size parameter of 17, gapopen of 5, and gapextend of 2 and saved matches where the identity multiple by the ratio of the hit to the total length of the gene was greater than 0.8 (or 0.3 in the case of the blaZ, fusB, and far genes). IS256 insertion sites. All strains found to contain IS256 were processed using ISMapper v1.2 (29) to determine the transposon insertion sites. ISMapper used the paired-end FASTQ files of reads for each genome, the reference genome assembly (USA500-2395; accession no. CP007499.1) (18) and an IS256 query sequence (accession no. NC_013321.1) (33). Phylogenetic tree estimation. A whole-genome alignment of de novo-assembled contigs from 539 CC8 strains from this study and 24 CC8 strains described in other papers was processed using Parsnp (61). The alignment length was 2,361,133 bp. Potential recombination sites were identified using ClonalFrameML (24) based on a maximum likelihood (ML) guide tree constructed by PhyML (62, 63), removed using a custom R script, leaving a final alignment of 2,359,393 bp with 18,755 variable sites (SNPs). The alignment file, R script, and ClonalFrameML output listing recombinant sites have been made publicly available on FigShare (https://doi.org/10.6084/m9.figshare.5915257.v1). We performed ML tree estimation on the 2,359,393-bp alignment with 1,000 bootstraps using RAxML version 8.2.11 (63) with a GTRGAMMA model and one partition. The resulting phylogenetic trees were visualized with the Interactive Tree of Life (iTOL) web service (64). We chose ST250 COL (accession no. CP000046.1 [13]) as the outgroup, as it was the earliest branching strain in subgroups A to F when we included a more divergent ST630 in a pilot phylogeny. One strain in group F, CT-172, was pruned from the final tree because of a long branch. Visual inspection using the gingr tool (61) revealed the presence of a likely large recombinant region in this strain between 2.47 and 2.59 Mbp on the USA500-2395 reference coordinates that had not been detected by ClonalFrameML. Statistical tests of metadata. Seven metadata categories for each sample were provided: state, hospital identification, year of collection, culture source, patient age, in-hospital patient mortality (deceased, alive, and unknown) and sample class (HACO, CO, HA, and CA). A case was classified as HO if the MRSA culture was obtained on or after the fourth calendar day of hospitalization (where admission was hospital day 1). A case was classified as HACO if the culture was obtained in an outpatient setting or before the fourth calendar day of hospitalization and had one or more of the following: (i) a history of hospitalization, surgery, dialysis, or residence in a long-term-care facility in the previous year, or (ii) the presence of a central vascular catheter (CVC) within 2 days prior to MRSA culture. Finally, a case was classified as community-associated (CA) if none of the previously mentioned criteria were met. To test the significance of these categories on which clade the sample belongs to, we ran a permutation test on each category, and adjusted the output P values with a Bonferroni correction. Tests were implemented using the Independence Test from the coin R package (65) and p.adjust from the base statistics R package. Molecular dating analysis. We used BEAST 2.4.5 (23) to conduct the molecular dating analysis, incorporating a coalescent Bayesian skyline demographic model with 5 groups. We picked up to 5 isolates from each sampling year for each of the clades C1, C2, and E1. Where there were more than 5 strains in a clade for a given year, we randomly selected 5 using the R sample function. We picked all dated samples from sublineage F in Fig. 1 and representatives of ST247, ST250, and sublineages B and D as outgroups. COL (ST250) was set as the root of the tree as in the phylogenetic analysis described above. In total, 151 samples were used. We experimented with different subsampling strategies before selecting 130,000 randomly picked sites. We found larger data configurations (more isolates and/or more sites) did not reach effective sample sizes (ESSs) of >200 for many parameters even after 300,000,000 generations. We used a GTR+R substitution model with the correction for among-site variation. We obtained good estimates of the posterior distribution of the parameters in this analysis, as these parameters reached over 200 ESSs. We set an uncorrelated log-normal relaxed clock and calibrated the clock using the dates of collection of the isolates. The final analysis was run for 200,000,000 generations, sampling every 20,000 generations and discarding the first 20,000,000 generations as burn-in. We evaluated the convergence of the analysis by checking that all the parameters reached ESS values of >200 and by analyzing the trace plots of the likelihood scores. Furthermore, we ran the final analysis twice so as to check that the analysis was converging and the two runs reached very similar results (see Table S2 and Fig. S7 in the supplemental material). To test whether the subsampling strategy accurately reproduced variation in the data, given that we only used a subset of the sites, we created another 3 replicates (randomly subsampling the same number of sites), and molecular dating analyses were run on each replicate. We obtained similar results across all the replicates (see Fig. S8 in the supplemental material). Tajima’s D values for clades were calculated using VariScan (66).\"\n",
    "full_prompt = build_prompt(system_directions, about_user, prompt)\n",
    "get_output(full_prompt, max_new_tokens=100)"
   ]
  },
  {
   "cell_type": "code",
   "execution_count": null,
   "id": "fa1167a4-ef75-428a-b3f4-75df0bb32f81",
   "metadata": {
    "tags": []
   },
   "outputs": [],
   "source": [
    "prompt = \"What do you know about PMC6955870?\"\n",
    "full_prompt = build_prompt(system_directions, about_user, prompt)\n",
    "good_prompt = pipeline.tokenizer.apply_chat_template(full_prompt, tokenize=False, add_generation_prompt=True)\n",
    "good_prompt"
   ]
  },
  {
   "cell_type": "code",
   "execution_count": null,
   "id": "b844764e-08d6-49b2-8bf5-59228c65a4fc",
   "metadata": {},
   "outputs": [],
   "source": [
    "#full_prompt = build_prompt(system_directions, about_user, prompt)\n",
    "get_output(full_prompt)"
   ]
  },
  {
   "cell_type": "code",
   "execution_count": null,
   "id": "101fec47-6b35-4bea-abc2-7aac28cef190",
   "metadata": {
    "tags": []
   },
   "outputs": [],
   "source": [
    "prompt = \"What can you tell me about CP000046.1?\"\n",
    "full_prompt = build_prompt(system_directions, about_user, prompt)\n",
    "good_prompt = pipeline.tokenizer.apply_chat_template(full_prompt, tokenize=False, add_generation_prompt=True)\n",
    "good_prompt"
   ]
  },
  {
   "cell_type": "code",
   "execution_count": null,
   "id": "fd54d39f-36c4-4dc2-963a-357d0f749e38",
   "metadata": {
    "tags": []
   },
   "outputs": [],
   "source": [
    "get_output(full_prompt, max_new_tokens=250)"
   ]
  },
  {
   "cell_type": "code",
   "execution_count": null,
   "id": "d605387d-ab06-4811-9e88-6e4f4e8b40dc",
   "metadata": {},
   "outputs": [],
   "source": []
  },
  {
   "cell_type": "code",
   "execution_count": null,
   "id": "1637af90-9b52-4858-b0be-e969c8775ec7",
   "metadata": {},
   "outputs": [],
   "source": []
  },
  {
   "cell_type": "code",
   "execution_count": null,
   "id": "4de6ee84-e469-4137-ac5e-c8ad432db90b",
   "metadata": {
    "tags": []
   },
   "outputs": [],
   "source": [
    "messages = [\n",
    "    {\"role\": \"system\", \"content\": \"You are a pirate chatbot who always responds in pirate speak!\"},\n",
    "    {\"role\": \"user\", \"content\": \"Who are you?\"},\n",
    "]\n",
    "\n",
    "outputs = pipeline(\n",
    "    messages,\n",
    "    max_new_tokens=256,\n",
    ")\n",
    "print(outputs[0][\"generated_text\"][-1])"
   ]
  },
  {
   "cell_type": "code",
   "execution_count": null,
   "id": "50138fa6-22e0-476d-a051-cca9bb7880a7",
   "metadata": {
    "tags": []
   },
   "outputs": [],
   "source": [
    "messages = [\n",
    "    {\"role\": \"system\", \"content\": \"You are a pirate chatbot who always responds in pirate speak!\"},\n",
    "    {\"role\": \"user\", \"content\": \"Who are you?\"},\n",
    "]\n",
    "\n",
    "good_messages = pipeline.tokenizer.apply_chat_template(messages, tokenize=False, add_generation_prompt=False)\n",
    "outputs = pipeline(\n",
    "    good_messages,\n",
    "    max_new_tokens=256,\n",
    ")\n",
    "print(outputs[0][\"generated_text\"][-1])"
   ]
  },
  {
   "cell_type": "code",
   "execution_count": null,
   "id": "84d8b12b-617d-46e9-8965-f286cdba2398",
   "metadata": {
    "tags": []
   },
   "outputs": [],
   "source": [
    "print(outputs)"
   ]
  },
  {
   "cell_type": "code",
   "execution_count": null,
   "id": "ef67d736-2400-438f-bd3f-83fffd337655",
   "metadata": {
    "tags": []
   },
   "outputs": [],
   "source": [
    "model = AutoModelForCausalLM.from_pretrained(\"meta-llama/Meta-Llama-3.1-70B-Instruct\",\n",
    "                                         cache_dir=cache_dir,\n",
    "                                         load_in_4bit=False,\n",
    "                                         #device= torch.device('cuda:1'),\n",
    "#                                         pretraining_tp= 1,\n",
    "                                        );"
   ]
  },
  {
   "cell_type": "code",
   "execution_count": null,
   "id": "47722307-3494-48c3-8bde-33224ce61f47",
   "metadata": {
    "tags": []
   },
   "outputs": [],
   "source": [
    "#device = f'cuda:{torch.cuda.current_device()}'\n",
    "#device\n",
    "device = torch.device('cuda:1')"
   ]
  },
  {
   "cell_type": "code",
   "execution_count": null,
   "id": "8e4bea65-184c-49f6-bca7-583b3ba1e8fc",
   "metadata": {
    "tags": []
   },
   "outputs": [],
   "source": [
    "model.to(device);"
   ]
  },
  {
   "cell_type": "code",
   "execution_count": null,
   "id": "693f91eb-0d55-4101-be0b-0deac4143d24",
   "metadata": {
    "tags": []
   },
   "outputs": [],
   "source": [
    "def get_response(prompt, new_tokens=25, rep_penalty=5.5, length_penalty=1.0):\n",
    "    inputs = tokenizer(prompt,return_tensors=\"pt\").to(device)\n",
    "    output = tokenizer.batch_decode(model.generate(inputs=inputs['input_ids'],\n",
    "                                                   max_new_tokens=new_tokens,\n",
    "                                         repetition_penalty=rep_penalty,\n",
    "                                         length_penalty=length_penalty), \n",
    "                           skip_special_tokens=True, \n",
    "                           clean_up_tokenization_spaces=False)[0]\n",
    "    print(output)"
   ]
  },
  {
   "cell_type": "code",
   "execution_count": null,
   "id": "26ae1d11-f52f-46cb-bee4-c5da670cd004",
   "metadata": {},
   "outputs": [],
   "source": [
    "prompt = \"<s>[INST] <<SYS>> You are a helpful and honest assistant. Always answer as helpfully as possible. \\\n",
    "If a question does not make any sense, or is not factually coherent, explain why instead of answering something not correct. If you don't know the answer to a question, please don't share false information. <</SYS>> \\\n",
    "Can you please tell me more about yourself? [/INST]\"\n",
    "prompt"
   ]
  },
  {
   "cell_type": "code",
   "execution_count": null,
   "id": "1c67c245-768c-457e-a751-d9f88cb96aa7",
   "metadata": {
    "tags": []
   },
   "outputs": [],
   "source": [
    "get_response(prompt, new_tokens=250, rep_penalty=2.0)"
   ]
  },
  {
   "cell_type": "code",
   "execution_count": null,
   "id": "d638ed3a-9f73-4578-92bd-b116f91efe29",
   "metadata": {
    "tags": []
   },
   "outputs": [],
   "source": [
    "def get_temp(text, sys_prompt=None):\n",
    "    if sys_prompt is None:\n",
    "        sys_prompt = \"You are a helpful AI assistant that answers concisely and correctly without makling things up\"\n",
    "    template = f\"\"\"\n",
    "<|begin_of_text|><|start_header_id|>system<|end_header_id|>\n",
    "{sys_prompt}<|eot_id|><|start_header_id|>user<|end_header_id|>\n",
    "'''{text}'''<|eot_id|><|start_header_id|>assistant<|end_header_id|>\n",
    "\"\"\"\n",
    "    return template"
   ]
  },
  {
   "cell_type": "code",
   "execution_count": null,
   "id": "b7919372-3b2c-4c39-848a-312d49f5d5c4",
   "metadata": {
    "tags": []
   },
   "outputs": [],
   "source": [
    "prompt = get_temp('what is a SCCmec? -- based on this, what is USA500, USA300 and ST250')\n",
    "prompt"
   ]
  },
  {
   "cell_type": "code",
   "execution_count": null,
   "id": "2e545953-9dc2-460a-8be7-f901bcf8d8b9",
   "metadata": {
    "tags": []
   },
   "outputs": [],
   "source": [
    "get_response(prompt, new_tokens=500, rep_penalty=1.0)"
   ]
  },
  {
   "cell_type": "code",
   "execution_count": null,
   "id": "aea92016-1d07-4f06-a79d-05b46469064f",
   "metadata": {
    "tags": []
   },
   "outputs": [],
   "source": [
    "about_me_prompt = \"I am a graduate level computational biology student with a specialization in comparative genomics. I am interested in the ways in which other scientists are incorporating genomics datasets into their publications. I have graduate-level knowledge of techniques and analysis types that are common in my field, and am familiar with a wide range of methods and software tools that are common to my field.\"\n",
    "response_notes = \"You are an expert in computational biology with a specialization in genomics. Your answers are concise and you assume that your audience shares specific graduate-level knowledge of your field.  Your answers avoid high-level generalities and include specifics about the subfields of biology involved in your responses as well as the analytical and experimental techniques commonly used in those fields. You assume that your audience is already familiar with the datasets in question and the organisms/samples they represent.\""
   ]
  },
  {
   "cell_type": "code",
   "execution_count": null,
   "id": "b903690e-eb42-4d70-96d9-ee33ce0d0f60",
   "metadata": {
    "tags": []
   },
   "outputs": [],
   "source": [
    "#full_sys_prompt = about_me_prompt + '\\n' + response_notes\n",
    "#print(full_sys_prompt)"
   ]
  },
  {
   "cell_type": "code",
   "execution_count": null,
   "id": "9721c70c-3c59-4751-a61b-b76df7724c21",
   "metadata": {
    "tags": []
   },
   "outputs": [],
   "source": [
    "paper = ' '.join(map(str, papers[0]))\n",
    "init_prompt = \"Please analyze the attached scientific article PDF and describe to me how the authors used or analyzed the dataset represented by the identifier/accession number 'CP000046.1'. The identifier refers to a Whole Genome Shotgun genome record that was sourced from the GenBank database maintained by the National Center for Biotechnical Information. This data represents the genome of a specific strain of the bacteria species 'Staphylococcus aureus'. The strain is referred to variously as 'subsp. aureus COL' or 'ST250 COL'. Please provide 1-3 sentences describing how this dataset was integrated into the authors' analysis and include specific details as to the analytical techniques and tools that were involved in this dataset's usage.\"\n",
    "full_prompt = init_prompt + '\\n' + paper"
   ]
  },
  {
   "cell_type": "code",
   "execution_count": null,
   "id": "6b1ba7d4-571e-4e03-bba3-ef962c6f7624",
   "metadata": {
    "tags": []
   },
   "outputs": [],
   "source": [
    "prompt = get_temp(full_sys_prompt, full_prompt)\n",
    "#prompt"
   ]
  },
  {
   "cell_type": "code",
   "execution_count": null,
   "id": "9901fa98-b0a1-479e-babe-173206cd4769",
   "metadata": {
    "tags": []
   },
   "outputs": [],
   "source": [
    "len(prompt)"
   ]
  },
  {
   "cell_type": "code",
   "execution_count": null,
   "id": "4604ff3b-c089-471a-81ea-c0083c1f06c1",
   "metadata": {
    "tags": []
   },
   "outputs": [],
   "source": [
    "get_response(prompt, new_tokens=500, rep_penalty=1.0)"
   ]
  },
  {
   "cell_type": "code",
   "execution_count": null,
   "id": "c82cba10-96c1-4c2a-b081-129d94a32cca",
   "metadata": {},
   "outputs": [],
   "source": []
  }
 ],
 "metadata": {
  "kernelspec": {
   "display_name": "dl24",
   "language": "python",
   "name": "python3"
  },
  "language_info": {
   "codemirror_mode": {
    "name": "ipython",
    "version": 3
   },
   "file_extension": ".py",
   "mimetype": "text/x-python",
   "name": "python",
   "nbconvert_exporter": "python",
   "pygments_lexer": "ipython3",
   "version": "3.11.9"
  }
 },
 "nbformat": 4,
 "nbformat_minor": 5
}
